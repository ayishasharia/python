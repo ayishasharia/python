{
 "cells": [
  {
   "cell_type": "code",
   "execution_count": 1,
   "metadata": {},
   "outputs": [
    {
     "data": {
      "text/plain": [
       "['C:\\\\Users\\\\IN',\n",
       " 'C:\\\\Users\\\\IN\\\\anaconda3\\\\python38.zip',\n",
       " 'C:\\\\Users\\\\IN\\\\anaconda3\\\\DLLs',\n",
       " 'C:\\\\Users\\\\IN\\\\anaconda3\\\\lib',\n",
       " 'C:\\\\Users\\\\IN\\\\anaconda3',\n",
       " '',\n",
       " 'C:\\\\Users\\\\IN\\\\anaconda3\\\\lib\\\\site-packages',\n",
       " 'C:\\\\Users\\\\IN\\\\anaconda3\\\\lib\\\\site-packages\\\\win32',\n",
       " 'C:\\\\Users\\\\IN\\\\anaconda3\\\\lib\\\\site-packages\\\\win32\\\\lib',\n",
       " 'C:\\\\Users\\\\IN\\\\anaconda3\\\\lib\\\\site-packages\\\\Pythonwin',\n",
       " 'C:\\\\Users\\\\IN\\\\anaconda3\\\\lib\\\\site-packages\\\\IPython\\\\extensions',\n",
       " 'C:\\\\Users\\\\IN\\\\.ipython']"
      ]
     },
     "execution_count": 1,
     "metadata": {},
     "output_type": "execute_result"
    }
   ],
   "source": [
    "import sys\n",
    "sys.path\n"
   ]
  },
  {
   "cell_type": "code",
   "execution_count": 2,
   "metadata": {},
   "outputs": [
    {
     "data": {
      "text/plain": [
       "['C:\\\\Users\\\\IN',\n",
       " 'C:\\\\Users\\\\IN\\\\anaconda3\\\\python38.zip',\n",
       " 'C:\\\\Users\\\\IN\\\\anaconda3\\\\DLLs',\n",
       " 'C:\\\\Users\\\\IN\\\\anaconda3\\\\lib',\n",
       " 'C:\\\\Users\\\\IN\\\\anaconda3',\n",
       " '',\n",
       " 'C:\\\\Users\\\\IN\\\\anaconda3\\\\lib\\\\site-packages',\n",
       " 'C:\\\\Users\\\\IN\\\\anaconda3\\\\lib\\\\site-packages\\\\win32',\n",
       " 'C:\\\\Users\\\\IN\\\\anaconda3\\\\lib\\\\site-packages\\\\win32\\\\lib',\n",
       " 'C:\\\\Users\\\\IN\\\\anaconda3\\\\lib\\\\site-packages\\\\Pythonwin',\n",
       " 'C:\\\\Users\\\\IN\\\\anaconda3\\\\lib\\\\site-packages\\\\IPython\\\\extensions',\n",
       " 'C:\\\\Users\\\\IN\\\\.ipython',\n",
       " 'c:\\\\Modules']"
      ]
     },
     "execution_count": 2,
     "metadata": {},
     "output_type": "execute_result"
    }
   ],
   "source": [
    "sys.path.append(r'c:\\Modules')\n",
    "sys.path"
   ]
  },
  {
   "cell_type": "code",
   "execution_count": 5,
   "metadata": {},
   "outputs": [
    {
     "name": "stdout",
     "output_type": "stream",
     "text": [
      "Area of rectangle: 20\n",
      "Perimeter of a rectangle: 18\n",
      "Area of circle: 78.53981633974483\n",
      "Perimeter of the circle: 31.41592653589793\n"
     ]
    }
   ],
   "source": [
    "#Create modules Rectangle, Circle. Include methods to find area and perimeter of respective figures in each module. Write programs that finds area and perimeter of figures by differentimporting statements. (Include selective import of modulesand import * statements)\n",
    "import rect\n",
    "import circle\n",
    "print(\"Area of rectangle:\",rect.area(4,5))\n",
    "print(\"Perimeter of a rectangle:\",rect.perimeter(4,5))\n",
    "\n",
    "print(\"Area of circle:\",circle.area(5))\n",
    "print(\"Perimeter of the circle:\",circle.perimeter(5))"
   ]
  },
  {
   "cell_type": "code",
   "execution_count": null,
   "metadata": {},
   "outputs": [],
   "source": []
  }
 ],
 "metadata": {
  "kernelspec": {
   "display_name": "Python 3",
   "language": "python",
   "name": "python3"
  },
  "language_info": {
   "codemirror_mode": {
    "name": "ipython",
    "version": 3
   },
   "file_extension": ".py",
   "mimetype": "text/x-python",
   "name": "python",
   "nbconvert_exporter": "python",
   "pygments_lexer": "ipython3",
   "version": "3.8.5"
  }
 },
 "nbformat": 4,
 "nbformat_minor": 4
}
