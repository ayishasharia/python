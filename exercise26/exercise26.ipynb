{
 "cells": [
  {
   "cell_type": "code",
   "execution_count": 7,
   "metadata": {},
   "outputs": [
    {
     "name": "stdout",
     "output_type": "stream",
     "text": [
      "Division by zero error occured\n"
     ]
    }
   ],
   "source": [
    "#1 write a program to handle zero division error which may arise when 2 numbers are being divided\n",
    "try:\n",
    "    a=int(input(\"enter first number:\"))\n",
    "    b=int(input(\"enter second number:\"))\n",
    "    result=a/b\n",
    "    print(\"Result=\",result)\n",
    "except ZeroDivisionError:\n",
    "    print(\"Division by zero error occured\")"
   ]
  },
  {
   "cell_type": "code",
   "execution_count": 8,
   "metadata": {},
   "outputs": [
    {
     "name": "stdout",
     "output_type": "stream",
     "text": [
      "Division by value error occured\n"
     ]
    }
   ],
   "source": [
    "#2 handle multiple exception,zero division error and value error\n",
    "try:\n",
    "    a=int(input(\"enter first number:\"))\n",
    "    b=int(input(\"enter second number:\"))\n",
    "    result=a/b\n",
    "    print(\"Result=\",result)\n",
    "except ZeroDivisionError: \n",
    "    print(\"Division by zero error occured\")\n",
    "except ValueError:   \n",
    "    print(\"Division by value error occured\")"
   ]
  },
  {
   "cell_type": "code",
   "execution_count": 9,
   "metadata": {},
   "outputs": [
    {
     "name": "stdout",
     "output_type": "stream",
     "text": [
      "value is too small\n",
      "value is too large\n",
      "you guessed is right\n"
     ]
    }
   ],
   "source": [
    "#3 create a user defined exception value too small error amd too large error when a user types a number smaller a given number and larger than a given number handle the error approximately\n",
    "class Error(Exception):\n",
    "    'base class for other exception'\n",
    "    pass\n",
    "class ValueTooSmallError(Error):\n",
    "    pass\n",
    "class ValueTooLargeError(Error):\n",
    "    pass\n",
    "num=10\n",
    "while True:\n",
    "    try:\n",
    "        in_num=int(input(\"enter a number\"))\n",
    "        if in_num<num:\n",
    "            raise ValueTooSmallError\n",
    "        elif in_num>num:\n",
    "            raise ValueTooLargeError\n",
    "        break\n",
    "    except ValueTooSmallError:\n",
    "        print(\"value is too small\")\n",
    "    except ValueTooLargeError:\n",
    "        print(\"value is too large\")\n",
    "print(\"you guessed is right\")\n"
   ]
  },
  {
   "cell_type": "code",
   "execution_count": 5,
   "metadata": {},
   "outputs": [
    {
     "name": "stdout",
     "output_type": "stream",
     "text": [
      "[4624, 6084, 6400, 8464]\n"
     ]
    }
   ],
   "source": [
    "#4 generate a list of 4 digit of no:s in a given range with all their digits and even and the number is a perfect sqaure\n",
    "import math\n",
    "l=[]\n",
    "for d in range(1000,10000):\n",
    "    a=math.sqrt(d)\n",
    "    if int(a) * int(a)==d:\n",
    "        b=d\n",
    "        while(b!=0):\n",
    "            if(b%10) %2==0:\n",
    "                b=int(b/10)\n",
    "            else:\n",
    "                break;\n",
    "        else:\n",
    "                l.append(d)\n",
    "print(l)\n",
    "              \n"
   ]
  },
  {
   "cell_type": "code",
   "execution_count": 10,
   "metadata": {},
   "outputs": [
    {
     "name": "stdout",
     "output_type": "stream",
     "text": [
      "smilingly\n"
     ]
    }
   ],
   "source": [
    "#add ing at the end of the given string.it is already ends with ing,then add ly\n",
    "s=input(\"enter a string:\")\n",
    "last=s[-3:]\n",
    "if(last==\"ing\"):\n",
    "    print(s+\"ly\")\n",
    "else:\n",
    "    print(s+\"ing\")\n",
    "  "
   ]
  },
  {
   "cell_type": "code",
   "execution_count": 3,
   "metadata": {},
   "outputs": [
    {
     "name": "stdout",
     "output_type": "stream",
     "text": [
      "column 1,column3,column 2,sum\n",
      "2,8,4,14\n",
      "6,8,7,21\n",
      "1,9,0,10\n",
      "\n"
     ]
    }
   ],
   "source": [
    "#open a csv file which contains these columns of numbers.write out the data to new csv file,swapping around the second and third columns and adding a forth column contains the sumof first three\n",
    "import csv\n",
    "data=[]\n",
    "with open('test.csv','r') as file:\n",
    "    reader=csv.reader(file)\n",
    "    index=0\n",
    "    for row in reader:\n",
    "        a=[]\n",
    "        if(index!=0):\n",
    "            a=[row[0],row[2],row[1],int(row[0])+int(row[2])+int(row[1])]\n",
    "        else:\n",
    "            a=[row[0],row[2],row[1],'sum']\n",
    "        data.append(a)\n",
    "        index+=1\n",
    "with open('test_swapped.csv','w') as file:\n",
    "    writer=csv.writer(file)\n",
    "    writer.writerows(data)\n",
    "with open('test_swapped.csv','r') as file:\n",
    "    print(file.read())"
   ]
  },
  {
   "cell_type": "code",
   "execution_count": null,
   "metadata": {},
   "outputs": [],
   "source": []
  }
 ],
 "metadata": {
  "kernelspec": {
   "display_name": "Python 3",
   "language": "python",
   "name": "python3"
  },
  "language_info": {
   "codemirror_mode": {
    "name": "ipython",
    "version": 3
   },
   "file_extension": ".py",
   "mimetype": "text/x-python",
   "name": "python",
   "nbconvert_exporter": "python",
   "pygments_lexer": "ipython3",
   "version": "3.6.3"
  }
 },
 "nbformat": 4,
 "nbformat_minor": 2
}
