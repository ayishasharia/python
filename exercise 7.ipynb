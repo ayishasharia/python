{
 "cells": [
  {
   "cell_type": "code",
   "execution_count": 2,
   "metadata": {},
   "outputs": [
    {
     "name": "stdout",
     "output_type": "stream",
     "text": [
      "enter the first number:507\n",
      "enter the second number:498\n",
      "the greatest number is: 507\n"
     ]
    }
   ],
   "source": [
    "#program to read two integers and print the greatest among them\n",
    "num1=int(input(\"enter the first number:\"))\n",
    "num2=int(input(\"enter the second number:\"))\n",
    "if(num1>num2):\n",
    "    print(\"the greatest number is:\",num1)\n",
    "else:\n",
    "        print(\"the greatest number is:\",num2)\n"
   ]
  },
  {
   "cell_type": "code",
   "execution_count": 4,
   "metadata": {},
   "outputs": [
    {
     "name": "stdout",
     "output_type": "stream",
     "text": [
      "enter a number:-3\n",
      "the given number is a negative number\n"
     ]
    }
   ],
   "source": [
    "#program to check whether the given number is positive ,negative or zero\n",
    "num=int(input(\"enter a number:\"))\n",
    "if(num==0):\n",
    "    print(\"the given number is zero\")\n",
    "elif(num>0):\n",
    "    print(\"the given number is positive\")\n",
    "else:\n",
    "    print(\"the given number is a negative number\")"
   ]
  },
  {
   "cell_type": "code",
   "execution_count": 6,
   "metadata": {},
   "outputs": [
    {
     "name": "stdout",
     "output_type": "stream",
     "text": [
      "enter the length:5\n",
      "enter the breadth:8\n",
      "the given measurement is of rectangle\n"
     ]
    }
   ],
   "source": [
    "#program to check whether the uploaded measures are of rectangle or a square\n",
    "l=input(\"enter the length:\")\n",
    "b=input(\"enter the breadth:\")\n",
    "if(l==b):\n",
    "    print(\"the given measurement is of sqaure\")\n",
    "else:\n",
    "    print(\"the given measurement is of rectangle\")\n"
   ]
  },
  {
   "cell_type": "code",
   "execution_count": 3,
   "metadata": {},
   "outputs": [
    {
     "name": "stdout",
     "output_type": "stream",
     "text": [
      "enter the first number:450\n",
      "enter the second number:2\n",
      "product of the given number is: 900\n"
     ]
    }
   ],
   "source": [
    "#program to print product of the given two numbers and print the sum if the product is greater than 1000\n",
    "n1=int(input(\"enter the first number:\"))\n",
    "n2=int(input(\"enter the second number:\"))\n",
    "s=n1+n2\n",
    "p=n1*n2\n",
    "if(p>1000):\n",
    " print(\"sum of the given numbers:\",s)\n",
    "else:\n",
    "    print(\"product of the given number is:\",p)"
   ]
  },
  {
   "cell_type": "code",
   "execution_count": 4,
   "metadata": {},
   "outputs": [
    {
     "name": "stdout",
     "output_type": "stream",
     "text": [
      "enter a list of number:1,2,3,4,5,1\n",
      "true\n"
     ]
    }
   ],
   "source": [
    "#program to enter the list of numbers, print true if first and last number of a list is same\n",
    "l=input(\"enter a list of number:\")\n",
    "num_list=l.split(\",\")\n",
    "if(num_list[0]==num_list[-1]):\n",
    "    print(\"true\")\n",
    "else:\n",
    "    print(\"false\")"
   ]
  },
  {
   "cell_type": "code",
   "execution_count": 5,
   "metadata": {},
   "outputs": [
    {
     "name": "stdout",
     "output_type": "stream",
     "text": [
      "enter the total number of classes held:70\n",
      "enter the total number of which the student attended:50\n",
      "attandance percentage of this student is: 71.42857142857143\n",
      "student wont be able to attend the examinatio due to attandence shortage\n"
     ]
    }
   ],
   "source": [
    "#program to check whether the student is to be allowed to attend exam\n",
    "cls=int(input(\"enter the total number of classes held:\"))\n",
    "cls_attnd=int(input(\"enter the total number of which the student attended:\"))\n",
    "attndnce_percentage=(cls_attnd/cls)*100\n",
    "print(\"attandance percentage of this student is:\",attndnce_percentage)\n",
    "if(attndnce_percentage<75):\n",
    "    print(\"student wont be able to attend the examinatio due to attandence shortage\")\n",
    "else:\n",
    "    print(\"student can attende the exam\")"
   ]
  },
  {
   "cell_type": "code",
   "execution_count": null,
   "metadata": {},
   "outputs": [],
   "source": []
  }
 ],
 "metadata": {
  "kernelspec": {
   "display_name": "Python 3",
   "language": "python",
   "name": "python3"
  },
  "language_info": {
   "codemirror_mode": {
    "name": "ipython",
    "version": 3
   },
   "file_extension": ".py",
   "mimetype": "text/x-python",
   "name": "python",
   "nbconvert_exporter": "python",
   "pygments_lexer": "ipython3",
   "version": "3.8.5"
  }
 },
 "nbformat": 4,
 "nbformat_minor": 4
}
