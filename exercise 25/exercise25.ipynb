{
 "cells": [
  {
   "cell_type": "code",
   "execution_count": 6,
   "metadata": {},
   "outputs": [],
   "source": [
    "import re\n",
    "m=re.match('python','python')\n",
    "if m!=None:\n",
    "    m.group()"
   ]
  },
  {
   "cell_type": "code",
   "execution_count": 7,
   "metadata": {},
   "outputs": [
    {
     "data": {
      "text/plain": [
       "'foo'"
      ]
     },
     "execution_count": 7,
     "metadata": {},
     "output_type": "execute_result"
    }
   ],
   "source": [
    "import re\n",
    "m=re.match('foo','food on the table')\n",
    "m.group()"
   ]
  },
  {
   "cell_type": "code",
   "execution_count": 8,
   "metadata": {},
   "outputs": [
    {
     "data": {
      "text/plain": [
       "'foo'"
      ]
     },
     "execution_count": 8,
     "metadata": {},
     "output_type": "execute_result"
    }
   ],
   "source": [
    "import re\n",
    "re.match('foo','food on the table').group()"
   ]
  },
  {
   "cell_type": "code",
   "execution_count": 9,
   "metadata": {},
   "outputs": [
    {
     "name": "stdout",
     "output_type": "stream",
     "text": [
      "foo\n"
     ]
    }
   ],
   "source": [
    "import re\n",
    "m=re.search('foo','seafood')\n",
    "if m!=None:\n",
    "    print(m.group())"
   ]
  },
  {
   "cell_type": "code",
   "execution_count": 18,
   "metadata": {},
   "outputs": [
    {
     "data": {
      "text/plain": [
       "'bat'"
      ]
     },
     "execution_count": 18,
     "metadata": {},
     "output_type": "execute_result"
    }
   ],
   "source": [
    "import re\n",
    "bt='bat|bet|bit'\n",
    "m=re.match(bt,'bat')\n",
    "m.group()"
   ]
  },
  {
   "cell_type": "code",
   "execution_count": 19,
   "metadata": {},
   "outputs": [],
   "source": [
    "import re\n",
    "m=re.match(bt,'blt')\n",
    "if m!=None:m.group()"
   ]
  },
  {
   "cell_type": "code",
   "execution_count": 27,
   "metadata": {},
   "outputs": [],
   "source": [
    "import re\n",
    "m=re.match(bt,'He bit me!')\n",
    "if m!=None:\n",
    "    m.group()\n",
    "    "
   ]
  },
  {
   "cell_type": "code",
   "execution_count": 33,
   "metadata": {},
   "outputs": [
    {
     "data": {
      "text/plain": [
       "<function SRE_Match.group>"
      ]
     },
     "execution_count": 33,
     "metadata": {},
     "output_type": "execute_result"
    }
   ],
   "source": [
    "import re\n",
    "m=re.search(bt,'he bit me!')\n",
    "m.group"
   ]
  },
  {
   "cell_type": "code",
   "execution_count": 34,
   "metadata": {},
   "outputs": [
    {
     "data": {
      "text/plain": [
       "'bend'"
      ]
     },
     "execution_count": 34,
     "metadata": {},
     "output_type": "execute_result"
    }
   ],
   "source": [
    "import re\n",
    "anyend='.end'\n",
    "m=re.match(anyend,'bend')\n",
    "m.group()"
   ]
  },
  {
   "cell_type": "code",
   "execution_count": 37,
   "metadata": {},
   "outputs": [],
   "source": [
    "import re\n",
    "m=re.match(anyend,'\\nend')\n",
    "if m!=None:\n",
    "    m.group()"
   ]
  },
  {
   "cell_type": "code",
   "execution_count": 41,
   "metadata": {},
   "outputs": [
    {
     "data": {
      "text/plain": [
       "' end'"
      ]
     },
     "execution_count": 41,
     "metadata": {},
     "output_type": "execute_result"
    }
   ],
   "source": [
    "import re\n",
    "m=re.search('.end','The end.')\n",
    "m.group()"
   ]
  },
  {
   "cell_type": "code",
   "execution_count": 43,
   "metadata": {},
   "outputs": [
    {
     "data": {
      "text/plain": [
       "<function SRE_Match.group>"
      ]
     },
     "execution_count": 43,
     "metadata": {},
     "output_type": "execute_result"
    }
   ],
   "source": [
    "import re\n",
    "patt314='3.14'\n",
    "pi_patt='3\\.14'\n",
    "m=re.match(pi_patt,'3.14')\n",
    "m.group"
   ]
  },
  {
   "cell_type": "code",
   "execution_count": 45,
   "metadata": {},
   "outputs": [
    {
     "data": {
      "text/plain": [
       "'3014'"
      ]
     },
     "execution_count": 45,
     "metadata": {},
     "output_type": "execute_result"
    }
   ],
   "source": [
    "import re\n",
    "m=re.match(patt314,'3014')\n",
    "m.group()"
   ]
  },
  {
   "cell_type": "code",
   "execution_count": 47,
   "metadata": {},
   "outputs": [
    {
     "data": {
      "text/plain": [
       "'c3po'"
      ]
     },
     "execution_count": 47,
     "metadata": {},
     "output_type": "execute_result"
    }
   ],
   "source": [
    "import re\n",
    "m=re.match('[cr][23][dp][o2]','c3po')\n",
    "m.group()"
   ]
  },
  {
   "cell_type": "code",
   "execution_count": 48,
   "metadata": {},
   "outputs": [
    {
     "data": {
      "text/plain": [
       "'The'"
      ]
     },
     "execution_count": 48,
     "metadata": {},
     "output_type": "execute_result"
    }
   ],
   "source": [
    "import re\n",
    "m=re.search('^The','The end.')\n",
    "m.group()"
   ]
  },
  {
   "cell_type": "code",
   "execution_count": 50,
   "metadata": {},
   "outputs": [
    {
     "data": {
      "text/plain": [
       "['car']"
      ]
     },
     "execution_count": 50,
     "metadata": {},
     "output_type": "execute_result"
    }
   ],
   "source": [
    "import re\n",
    "re.findall('car','car')\n"
   ]
  },
  {
   "cell_type": "code",
   "execution_count": 2,
   "metadata": {},
   "outputs": [
    {
     "name": "stdout",
     "output_type": "stream",
     "text": [
      "the creature was theman\n"
     ]
    }
   ],
   "source": [
    "#1create a file test.txt retrive all lines that contains 'the'\n",
    "import re\n",
    "l=re.compile('the')\n",
    "f=open('test.txt','r')\n",
    "lines=f.readlines()\n",
    "for line in lines:\n",
    "    if(l.search(line)):\n",
    "        print(line)\n"
   ]
  },
  {
   "cell_type": "code",
   "execution_count": 4,
   "metadata": {},
   "outputs": [
    {
     "name": "stdout",
     "output_type": "stream",
     "text": [
      "the creature was theman\n",
      "\n",
      "THE CREATURE WAS THEMAN\n"
     ]
    }
   ],
   "source": [
    "#2retrive all lines that contains 'the' lower or uppercase letters\n",
    "import re\n",
    "l=re.compile('the|THE')\n",
    "f=open('test.txt','r')\n",
    "lines=f.readlines()\n",
    "for line in lines:\n",
    "    if(l.search(line)):\n",
    "        print(line)\n"
   ]
  },
  {
   "cell_type": "code",
   "execution_count": 5,
   "metadata": {},
   "outputs": [
    {
     "name": "stdout",
     "output_type": "stream",
     "text": [
      "the creature was theman\n",
      "\n",
      "THE CREATURE WAS THEMAN\n"
     ]
    }
   ],
   "source": [
    "#2\n",
    "import re\n",
    "l=re.compile('the',re.I)\n",
    "f=open('test.txt','r')\n",
    "lines=f.readlines()\n",
    "for line in lines:\n",
    "    if(l.search(line)):\n",
    "        print(line)"
   ]
  },
  {
   "cell_type": "code",
   "execution_count": 19,
   "metadata": {},
   "outputs": [
    {
     "name": "stdout",
     "output_type": "stream",
     "text": [
      "in python there are 2 loops\n",
      "\n",
      "while loop\n",
      "\n",
      "for loop\n",
      "\n",
      "she is a good girl\n",
      "\n"
     ]
    }
   ],
   "source": [
    "#3retrive lines that have 2 consecutive 'o's\n",
    "import re\n",
    "l=re.compile('oo')\n",
    "f=open('test.txt','r')\n",
    "lines=f.readlines()\n",
    "for line in lines:\n",
    "    if(l.search(line)):\n",
    "        print(line)"
   ]
  },
  {
   "cell_type": "code",
   "execution_count": 7,
   "metadata": {},
   "outputs": [
    {
     "name": "stdout",
     "output_type": "stream",
     "text": [
      "she is a good girl\n"
     ]
    }
   ],
   "source": [
    "#4retrive all lines that contains a p letter string consisting of 's' then any character,then E \n",
    "#such as she\n",
    "import re\n",
    "l=re.compile('s.e')\n",
    "f=open('test.txt','r')\n",
    "lines=f.readlines()\n",
    "for line in lines:\n",
    "    if(l.search(line)):\n",
    "        print(line)"
   ]
  },
  {
   "cell_type": "code",
   "execution_count": 21,
   "metadata": {},
   "outputs": [
    {
     "name": "stdout",
     "output_type": "stream",
     "text": [
      "she is a good girl\n",
      "\n",
      "arya is postgraduate\n",
      "\n",
      "seene\n",
      "\n",
      "sife\n",
      "\n",
      "safe\n",
      "\n",
      "sake\n",
      "\n",
      "simple\n"
     ]
    }
   ],
   "source": [
    "#5retrive lines with three letter word that starts with s andends with E\n",
    "import re\n",
    "l=re.compile('s\\w+e')\n",
    "f=open('test.txt','r')\n",
    "lines=f.readlines()\n",
    "for line in lines:\n",
    "    if(l.search(line)):\n",
    "        print(line)"
   ]
  },
  {
   "cell_type": "code",
   "execution_count": 23,
   "metadata": {},
   "outputs": [
    {
     "name": "stdout",
     "output_type": "stream",
     "text": [
      "arya is postgraduate\n",
      "\n",
      "ahn\n",
      "\n",
      "asdffghn\n",
      "\n"
     ]
    }
   ],
   "source": [
    "#6Retrive lines that starts with 'a'\n",
    "import re\n",
    "l=re.compile('^a')\n",
    "f=open('test.txt','r')\n",
    "lines=f.readlines()\n",
    "for line in lines:\n",
    "    if(l.search(line)):\n",
    "        print(line)"
   ]
  },
  {
   "cell_type": "code",
   "execution_count": 26,
   "metadata": {},
   "outputs": [
    {
     "name": "stdout",
     "output_type": "stream",
     "text": [
      "ahn\n",
      "\n",
      "asdffghn\n",
      "\n",
      "ahaan\n",
      "\n",
      "aheen\n",
      "\n",
      "ahiin\n",
      "\n",
      "ahan\n"
     ]
    }
   ],
   "source": [
    "#7retrive lines that starts with a and ends with n\n",
    "import re\n",
    "l=re.compile('a\\w+n$')\n",
    "f=open('test.txt','r')\n",
    "lines=f.readlines()\n",
    "for line in lines:\n",
    "    if(l.search(line)):\n",
    "        print(line)"
   ]
  },
  {
   "cell_type": "code",
   "execution_count": 3,
   "metadata": {},
   "outputs": [
    {
     "name": "stdout",
     "output_type": "stream",
     "text": [
      "14.05.98\n",
      "\n"
     ]
    }
   ],
   "source": [
    "#8 retrive all lines with a date in the form of one or two digits,a dot,2 digits\n",
    "import re\n",
    "l=re.compile('(\\d\\d?)\\.(\\d\\d?)\\.\\d\\d$')\n",
    "f=open('test.txt','r')\n",
    "lines=f.readlines()\n",
    "for line in lines:\n",
    "    if(l.search(line)):\n",
    "        print(line)"
   ]
  },
  {
   "cell_type": "code",
   "execution_count": null,
   "metadata": {},
   "outputs": [],
   "source": []
  },
  {
   "cell_type": "code",
   "execution_count": null,
   "metadata": {},
   "outputs": [],
   "source": []
  }
 ],
 "metadata": {
  "kernelspec": {
   "display_name": "Python 3",
   "language": "python",
   "name": "python3"
  },
  "language_info": {
   "codemirror_mode": {
    "name": "ipython",
    "version": 3
   },
   "file_extension": ".py",
   "mimetype": "text/x-python",
   "name": "python",
   "nbconvert_exporter": "python",
   "pygments_lexer": "ipython3",
   "version": "3.6.3"
  }
 },
 "nbformat": 4,
 "nbformat_minor": 2
}
