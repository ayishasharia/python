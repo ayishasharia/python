{
 "cells": [
  {
   "cell_type": "code",
   "execution_count": 1,
   "metadata": {},
   "outputs": [
    {
     "name": "stdout",
     "output_type": "stream",
     "text": [
      "enter the radian values:20\n",
      "Degree values is: 1146.496815286624\n"
     ]
    }
   ],
   "source": [
    "#program to convert radian to degrees\n",
    "pi=3.14\n",
    "r=int(input(\"enter the radian values:\"))\n",
    "degree=r*(180/pi)\n",
    "print(\"Degree values is:\",degree)"
   ]
  },
  {
   "cell_type": "code",
   "execution_count": 2,
   "metadata": {},
   "outputs": [
    {
     "name": "stdout",
     "output_type": "stream",
     "text": [
      "enter the value of a:3\n",
      "enter the value of b:4\n",
      "enter the value of c:5\n",
      "the discriminant value is: -44\n"
     ]
    }
   ],
   "source": [
    "#Write a Python program to calculate the discriminant value.\n",
    "a=int(input(\"enter the value of a:\"))\n",
    "b=int(input(\"enter the value of b:\"))\n",
    "c=int(input(\"enter the value of c:\"))\n",
    "d=b*b-4*a*c\n",
    "print(\"the discriminant value is:\",d)"
   ]
  },
  {
   "cell_type": "code",
   "execution_count": null,
   "metadata": {},
   "outputs": [],
   "source": []
  },
  {
   "cell_type": "code",
   "execution_count": null,
   "metadata": {},
   "outputs": [],
   "source": []
  }
 ],
 "metadata": {
  "kernelspec": {
   "display_name": "Python 3",
   "language": "python",
   "name": "python3"
  },
  "language_info": {
   "codemirror_mode": {
    "name": "ipython",
    "version": 3
   },
   "file_extension": ".py",
   "mimetype": "text/x-python",
   "name": "python",
   "nbconvert_exporter": "python",
   "pygments_lexer": "ipython3",
   "version": "3.8.5"
  }
 },
 "nbformat": 4,
 "nbformat_minor": 4
}
