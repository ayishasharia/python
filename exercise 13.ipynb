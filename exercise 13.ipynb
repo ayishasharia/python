{
 "cells": [
  {
   "cell_type": "code",
   "execution_count": 1,
   "metadata": {},
   "outputs": [
    {
     "name": "stdout",
     "output_type": "stream",
     "text": [
      "Ascending order is: [('a', 4), ('b', 1), ('c', 20), ('d', 6)]\n",
      "Descending order is: [('d', 6), ('c', 20), ('b', 1), ('a', 4)]\n",
      "Dictionary : {'d': 6, 'c': 20, 'b': 1, 'a': 4}\n"
     ]
    }
   ],
   "source": [
    "#sort dictionary in ascending and descending order\n",
    "y={'c':20,'a':4,'d':6,'b':1}\n",
    "l=list(y.items())             #convert the given dictionary into list\n",
    "                              #In python Dictionary,items() method is used to return a list of dict's keys with values\n",
    "l.sort()                      #sort the list\n",
    "print(\"Ascending order is:\",l)#this print the sorted list in ascending order\n",
    "l=list(y.items())\n",
    "l.sort(reverse=True)          #sort in reverse order\n",
    "print(\"Descending order is:\",l)\n",
    "dict=dict(l)                  #convert the list in dictionary\n",
    "print(\"Dictionary :\", dict)\n"
   ]
  },
  {
   "cell_type": "code",
   "execution_count": 2,
   "metadata": {},
   "outputs": [
    {
     "name": "stdout",
     "output_type": "stream",
     "text": [
      "dict1: {'a': 1, 'b': 3, 'c': 5, 'd': 7}\n",
      "dict2: {'e': 9, 'f': 11, 'g': 13, 'h': 15}\n",
      "after merging: {'a': 1, 'b': 3, 'c': 5, 'd': 7, 'e': 9, 'f': 11, 'g': 13, 'h': 15}\n"
     ]
    }
   ],
   "source": [
    "#merge two dictionaries\n",
    "dict1={'a':1,'b':3,'c':5,'d':7}     #create dict1\n",
    "dict2={'e':9,'f':11,'g':13,'h':15}  #create dict2\n",
    "print(\"dict1:\", dict1)               #print dict1\n",
    "print(\"dict2:\", dict2)               #print dict2\n",
    "dict1.update(dict2)                 #merge elements of dict1 with dict2\n",
    "print(\"after merging:\", dict1)      #print merged dict\n"
   ]
  },
  {
   "cell_type": "code",
   "execution_count": 3,
   "metadata": {},
   "outputs": [
    {
     "name": "stdout",
     "output_type": "stream",
     "text": [
      "enter some numbers:3 23 455\n",
      "[3, 23, 'over']\n"
     ]
    }
   ],
   "source": [
    "# Prompt the user for a list of integers. For all values greater than 100, store ‘over’ instead.\n",
    "\n",
    "a=list(map(int,input(\"enter some numbers:\").split())) #store input as list\n",
    "\n",
    "for i in range(len(a)):                               #iterate for range length of a\n",
    "    if(a[i]>100):                                     #check is entered number greater than 100\n",
    "        a[i]=\"over\"                                   #For all values greater than 100, store ‘over’ instead.\n",
    "print(a)                                              #print list"
   ]
  },
  {
   "cell_type": "code",
   "execution_count": 4,
   "metadata": {},
   "outputs": [
    {
     "name": "stdout",
     "output_type": "stream",
     "text": [
      "enter some first names separated by comas:a,y,i,s,h,a\n",
      "['a,y,i,s,h,a']\n",
      "2\n"
     ]
    }
   ],
   "source": [
    "#Store a list of first names. Count the occurrences of ‘a’ within the list\n",
    "names=input(\"enter some first names separated by comas:\")  #store input\n",
    "a=names.split()                                            #split the entered names\n",
    "print(a)                                                   #print the list\n",
    "    \n",
    "c=names.count(\"a\")                                         #for counting the occurences of 'a'\n",
    "print(c)                                                   #print the count\n",
    "        \n",
    "        "
   ]
  },
  {
   "cell_type": "code",
   "execution_count": 5,
   "metadata": {},
   "outputs": [
    {
     "name": "stdout",
     "output_type": "stream",
     "text": [
      "enter some numbers for list1:2 4 6 8 \n",
      "enter some numbers for list2:1 3 5 7\n",
      "length of first list is: 4\n",
      "length of second list is: 4\n",
      "list are of same length\n",
      "....................................\n",
      "sum of first list is: 20\n",
      "sum of second list is: 16\n",
      "list sums to different values\n",
      "...................................\n"
     ]
    }
   ],
   "source": [
    "#Enter 2 lists of integers.\n",
    "#Check\n",
    "#(a) Whether list are of same length\n",
    "#(b) whether list sums to same value\n",
    "#(c) whether any value occur in both\n",
    "a=list(map(int,input(\"enter some numbers for list1:\").split()))\n",
    "b=list(map(int,input(\"enter some numbers for list2:\").split()))\n",
    "if len(a)==len(b):\n",
    "    print(\"length of first list is:\", len(a))\n",
    "    print(\"length of second list is:\",len(b))\n",
    "    print(\"list are of same length\")\n",
    "else:\n",
    "    \n",
    "    print(\"length of first list is:\",len(a))\n",
    "    print(\"length of second list is:\",len(b))\n",
    "    print(\"list are not in same length\")\n",
    "print(\"....................................\")\n",
    "if(sum(a)==sum(b)):\n",
    "    print(\"sum of first list is:\",sum(a))\n",
    "    print(\"sum of second list is:\",sum(a))\n",
    "    print(\"list sums to same value\")\n",
    "else:\n",
    "    print(\"sum of first list is:\",sum(a))\n",
    "    print(\"sum of second list is:\",sum(b))\n",
    "    print(\"list sums to different values\")\n",
    "print(\"...................................\")    \n",
    "\n",
    "    "
   ]
  },
  {
   "cell_type": "code",
   "execution_count": 6,
   "metadata": {},
   "outputs": [
    {
     "name": "stdout",
     "output_type": "stream",
     "text": [
      "enter some colors for list 1:blue red yellow\n",
      "color-list1: {'blue red yellow'}\n",
      "enter some colors for list 2:green black white\n",
      "color-list2: {'green black white'}\n",
      "colors from color-list1 not contained in color-list2: {'blue red yellow'}\n"
     ]
    }
   ],
   "source": [
    "#Print out all colors from color-list1 not contained in color-list2. \n",
    "color_list1=list(input(\"enter some colors for list 1:\").split(\",\")) #store input\n",
    "f=set(color_list1)                                                  #covert list into set\n",
    "print(\"color-list1:\",f)                                             #print color-list1\n",
    "color_list2=list(input(\"enter some colors for list 2:\").split(\",\")) #store input\n",
    "s=set(color_list2)                                                  #covert list into set\n",
    "print(\"color-list2:\",s)                                             #print color-list2\n",
    "p=f-s                                                               #calculate difference\n",
    "print(\"colors from color-list1 not contained in color-list2:\",p)    #print colors from color-list1 not contained in color-list2\n",
    "\n"
   ]
  },
  {
   "cell_type": "code",
   "execution_count": null,
   "metadata": {},
   "outputs": [],
   "source": []
  }
 ],
 "metadata": {
  "kernelspec": {
   "display_name": "Python 3",
   "language": "python",
   "name": "python3"
  },
  "language_info": {
   "codemirror_mode": {
    "name": "ipython",
    "version": 3
   },
   "file_extension": ".py",
   "mimetype": "text/x-python",
   "name": "python",
   "nbconvert_exporter": "python",
   "pygments_lexer": "ipython3",
   "version": "3.8.5"
  }
 },
 "nbformat": 4,
 "nbformat_minor": 4
}
