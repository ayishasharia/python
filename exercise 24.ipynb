{
 "cells": [
  {
   "cell_type": "code",
   "execution_count": 1,
   "metadata": {},
   "outputs": [
    {
     "name": "stdout",
     "output_type": "stream",
     "text": [
      "Enter the Length of Rectangle 1   :3\n",
      "Enter the Breadth of Rectangle 1 :4\n",
      "AREA OF RECTANGLE 1       :  12\n",
      "PERIMETER OF RECTANGLE 1  :  14\n",
      "\n",
      "Enter the Length of Rectangle 2 :5\n",
      "Enter the Breadth of Rectangle 2 :2\n",
      "AREA OF RECTANGLE 2       :  10\n",
      "PERIMETER OF RECTANGLE 2  :  14\n",
      "BOTH DONT HAVE SAME AREA\n"
     ]
    }
   ],
   "source": [
    "#Create Rectangle class with attributes length and breadth andmethods to find area and perimeter. Compare two Rectangleobjects by their area.\n",
    "\n",
    "class Rectangle(): #create class \n",
    "    def getval(self,length,breadth):\n",
    "        self.length=length\n",
    "        self.breadth=breadth\n",
    "        \n",
    "       \n",
    "    def  area(self):  \n",
    "        return self.length*self.breadth\n",
    " \n",
    "    def perimeter(self):\n",
    "        return 2*(self.length+self.breadth)\n",
    "    \n",
    "    \n",
    "Rectangle1=Rectangle()#rectangle1 obejct created  \n",
    "\n",
    "length=(int(input(\"Enter the Length of Rectangle 1   :\")))  #Reading length and breadth\n",
    "breadth=(int(input(\"Enter the Breadth of Rectangle 1 :\")))\n",
    "\n",
    "Rectangle1.getval(length,breadth)\n",
    "\n",
    "print(\"AREA OF RECTANGLE 1       : \",Rectangle1.area())\n",
    "print(\"PERIMETER OF RECTANGLE 1  : \",Rectangle1.perimeter())\n",
    "\n",
    "\n",
    "Rectangle2=Rectangle()#rectangle2 obejct created  \n",
    "\n",
    "length=(int(input(\"\\nEnter the Length of Rectangle 2 :\")))\n",
    "breadth=(int(input(\"Enter the Breadth of Rectangle 2 :\")))\n",
    "\n",
    "Rectangle2.getval(length,breadth)\n",
    "\n",
    "print(\"AREA OF RECTANGLE 2       : \",Rectangle2.area())\n",
    "print(\"PERIMETER OF RECTANGLE 2  : \",Rectangle2.perimeter())\n",
    "\n",
    "\n",
    "if(Rectangle2.area()==Rectangle1.area()): #Comparing areas\n",
    "    print(\"BOTH HAVE SAME AREA\")\n",
    "else:#\n",
    "    print(\"BOTH DONT HAVE SAME AREA\")\n",
    "\n",
    "\n"
   ]
  },
  {
   "cell_type": "code",
   "execution_count": null,
   "metadata": {},
   "outputs": [],
   "source": []
  }
 ],
 "metadata": {
  "kernelspec": {
   "display_name": "Python 3",
   "language": "python",
   "name": "python3"
  },
  "language_info": {
   "codemirror_mode": {
    "name": "ipython",
    "version": 3
   },
   "file_extension": ".py",
   "mimetype": "text/x-python",
   "name": "python",
   "nbconvert_exporter": "python",
   "pygments_lexer": "ipython3",
   "version": "3.8.5"
  }
 },
 "nbformat": 4,
 "nbformat_minor": 4
}
