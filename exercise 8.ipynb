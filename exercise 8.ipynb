{
 "cells": [
  {
   "cell_type": "code",
   "execution_count": 2,
   "metadata": {},
   "outputs": [
    {
     "name": "stdout",
     "output_type": "stream",
     "text": [
      "enter the age of the first person:34\n",
      "enter the age of the second person:23\n",
      "enter the age of the third person:56\n",
      "the oldest person is the one with the age: 56\n",
      "the younest person is the one with the age: 23\n"
     ]
    }
   ],
   "source": [
    "#program to read thre ages and find the oldest among them and youngest among them\n",
    "a1=int(input(\"enter the age of the first person:\"))\n",
    "a2=int(input(\"enter the age of the second person:\"))\n",
    "a3=int(input(\"enter the age of the third person:\"))\n",
    "#finding the oldest one\n",
    "if(a1>a2)and(a1>a3):\n",
    "    print(\"the oldest person is the one with the age:\",a1)\n",
    "elif(a2>a1)and(a2>a3):\n",
    "    print(\"the oldest person is the one with the age:\",a2)\n",
    "elif(a3>a1)and(a3>a2):\n",
    "    print(\"the oldest person is the one with the age:\",a3)\n",
    "#finding the youngest\n",
    "if(a1<a2)and(a1<a3):\n",
    "    print(\"the youngest person is the one with the age:\",a1)\n",
    "elif(a2<a1)and(a2<a3):\n",
    "    print(\"the younest person is the one with the age:\",a2)\n",
    "elif(a3<a1)and(a3<a2):\n",
    "    print(\"the oldest person is the one with the age:\",a3)\n",
    "    \n"
   ]
  },
  {
   "cell_type": "code",
   "execution_count": 4,
   "metadata": {},
   "outputs": [
    {
     "name": "stdout",
     "output_type": "stream",
     "text": [
      "enter the mark of student:83\n",
      "grade awarded to this student is A grade\n"
     ]
    }
   ],
   "source": [
    "#program to read marks of student and print the corresponding grade\n",
    "mark=int(input(\"enter the mark of student:\"))\n",
    "#checking the range of marks and printing corresponding grade\n",
    "if(mark<25):\n",
    "    print(\"grade of this student is:F\")\n",
    "elif(mark>=25)and(mark<=45):\n",
    "    print(\"grade of this student is:E\")\n",
    "elif(mark>=45)and(mark<=50):\n",
    "    print(\"grade of this student is:D\")\n",
    "elif(mark>=50)and(mark<=60):\n",
    "    print(\"grade of this student is:C\")\n",
    "elif(mark>=60)and(mark<=80):\n",
    "    print(\"grade of this student is:B\")\n",
    "else:\n",
    "    print(\"grade awarded to this student is A grade\")\n",
    "    "
   ]
  },
  {
   "cell_type": "code",
   "execution_count": 5,
   "metadata": {},
   "outputs": [
    {
     "name": "stdout",
     "output_type": "stream",
     "text": [
      "enter the quantity purchased:50\n",
      "the cost is: 4500.0\n"
     ]
    }
   ],
   "source": [
    "#program to read a quatity purchased from a shop and calculate the total price by providing the discount for the purchased quantity more than 1000\n",
    "qty=int(input(\"enter the quantity purchased:\"))\n",
    "#calculating the cost\n",
    "if((qty*100)>1000):\n",
    "    cost=((qty*100)-(.1*qty*100))\n",
    "    print(\"the cost is:\",cost)\n",
    "else:\n",
    "    print(\"the cost is:\",qty*100)"
   ]
  },
  {
   "cell_type": "code",
   "execution_count": 7,
   "metadata": {},
   "outputs": [
    {
     "name": "stdout",
     "output_type": "stream",
     "text": [
      "enter the salary:25000\n",
      "enter the year of service:3\n",
      "no\n"
     ]
    }
   ],
   "source": [
    "#program to read the salary and year of service and print the net bonus amount\n",
    "salary=int(input(\"enter the salary:\"))\n",
    "year=int(input(\"enter the year of service:\"))\n",
    "if(year>5):\n",
    "    bonus=0.05*salary\n",
    "    print(\"bonus is:\",bonus)\n",
    "else:\n",
    "    print(\"no bonus\")"
   ]
  },
  {
   "cell_type": "code",
   "execution_count": 2,
   "metadata": {},
   "outputs": [
    {
     "name": "stdout",
     "output_type": "stream",
     "text": [
      "list of months:January,February,march,april,may,june,july,august,september,october,november,december\n",
      "enter the month:july\n",
      "number of days:31 days\n"
     ]
    }
   ],
   "source": [
    "#program to convert month name to number of days\n",
    "print(\"list of months:January,February,march,april,may,june,july,august,september,october,november,december\")\n",
    "month=input(\"enter the month:\")\n",
    "#checking the months by categorizing months  into3(months of 30 and 31)\n",
    "if(month==\"february\"):\n",
    "    print(\"number of days :28/29 days\")\n",
    "elif month in(\"april\",\"june\",\"september\",\"november\"):\n",
    "    print(\"number of days:30 days\")\n",
    "elif month in(\"january\",\"march\",\"may\",\"july\",\"august\",\"october\",\"december\"):\n",
    "    print(\"number of days:31 days\")\n",
    "else:\n",
    "    print(\"the month name is incorect\")"
   ]
  },
  {
   "cell_type": "code",
   "execution_count": 3,
   "metadata": {},
   "outputs": [
    {
     "name": "stdout",
     "output_type": "stream",
     "text": [
      "enter the three sides of traingle:\n",
      "l:5\n",
      "b:5\n",
      "h:4\n",
      "this is an isosceles triangle\n"
     ]
    }
   ],
   "source": [
    "#program to check a triangle is equilateral,isosceles or scalence\n",
    "print(\"enter the three sides of traingle:\")\n",
    "l=int(input(\"l:\"))\n",
    "b=int(input(\"b:\")) \n",
    "h=int(input(\"h:\"))\n",
    "#checking whether all sides are equal or atleast two sides are equal\n",
    "if(l==b==h):\n",
    "    print(\"this is an equilateral traingle\")\n",
    "elif(l==b or b==h or l==h):\n",
    "    print(\"this is an isosceles triangle\")\n",
    "else:\n",
    "    print(\"scalene triangle\")"
   ]
  },
  {
   "cell_type": "code",
   "execution_count": 7,
   "metadata": {},
   "outputs": [
    {
     "name": "stdout",
     "output_type": "stream",
     "text": [
      "enter the first number:3\n",
      "enter the second number:6\n",
      "enter the third number:9\n",
      "median of the above three numbers:\n",
      "6\n"
     ]
    }
   ],
   "source": [
    "#program to find the median of three values\n",
    "a=int(input(\"enter the first number:\"))\n",
    "b=int(input(\"enter the second number:\"))\n",
    "c=int(input(\"enter the third number:\"))\n",
    "print(\"median of the above three numbers:\")\n",
    "if((b<a) and (a<c)):\n",
    "    print(a)\n",
    "elif((c<a) and (a<b)):\n",
    "     print(a)\n",
    "elif((c<b) and (b<a)):\n",
    "     print(b)\n",
    "elif((a<b) and (b<c)):\n",
    "     print(b)\n",
    "elif((b<c) and (c<b)):\n",
    "     print(c)\n",
    "elif((a<c) and (c<b)):\n",
    "     print(c)"
   ]
  },
  {
   "cell_type": "code",
   "execution_count": null,
   "metadata": {},
   "outputs": [],
   "source": []
  }
 ],
 "metadata": {
  "kernelspec": {
   "display_name": "Python 3",
   "language": "python",
   "name": "python3"
  },
  "language_info": {
   "codemirror_mode": {
    "name": "ipython",
    "version": 3
   },
   "file_extension": ".py",
   "mimetype": "text/x-python",
   "name": "python",
   "nbconvert_exporter": "python",
   "pygments_lexer": "ipython3",
   "version": "3.8.5"
  }
 },
 "nbformat": 4,
 "nbformat_minor": 4
}
