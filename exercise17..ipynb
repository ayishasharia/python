{
 "cells": [
  {
   "cell_type": "code",
   "execution_count": 1,
   "metadata": {},
   "outputs": [
    {
     "name": "stdout",
     "output_type": "stream",
     "text": [
      "Enter length of side of square : 5\n",
      "AREA OF SQUARE :  25.0\n",
      "Enter lenght of Rectangle : 3\n",
      "Enter width of Rectangle : 4\n",
      "AREA OF RECTANGLE :  12.0\n",
      "Enter base of triangle : 2\n",
      "Enter height of triangle : 3\n",
      "AREA OF TRIANGLE :  3.0\n"
     ]
    }
   ],
   "source": [
    "# 1.Write lambda functions to find area of square, rectangle and triangle.\n",
    "\n",
    "#LAMBDA FUNCTIONS\n",
    "areaSquare=lambda side :side**2  #lambda function for area of square\n",
    "areaRectangle=lambda length,width:length*width #lambda function for area of Rectangle\n",
    "areaTriangle=lambda base,height:(1/2)*base*height ##lambda function for area of triangle\n",
    "\n",
    "#READING USER INPUTS AND CALLING LAMBDA FUNCTIONS\n",
    "side=float(input(\"Enter length of side of square : \"))\n",
    "print(\"AREA OF SQUARE : \",areaSquare(side)) \n",
    "\n",
    "length,width=float(input(\"Enter lenght of Rectangle : \")),float(input(\"Enter width of Rectangle : \"))\n",
    "print(\"AREA OF RECTANGLE : \",areaRectangle(length,width))\n",
    "\n",
    "base,height=float(input(\"Enter base of triangle : \")),float(input(\"Enter height of triangle : \"))\n",
    "print(\"AREA OF TRIANGLE : \",areaTriangle(base,height))\n"
   ]
  },
  {
   "cell_type": "code",
   "execution_count": null,
   "metadata": {},
   "outputs": [],
   "source": []
  }
 ],
 "metadata": {
  "kernelspec": {
   "display_name": "Python 3",
   "language": "python",
   "name": "python3"
  },
  "language_info": {
   "codemirror_mode": {
    "name": "ipython",
    "version": 3
   },
   "file_extension": ".py",
   "mimetype": "text/x-python",
   "name": "python",
   "nbconvert_exporter": "python",
   "pygments_lexer": "ipython3",
   "version": "3.8.5"
  }
 },
 "nbformat": 4,
 "nbformat_minor": 4
}
