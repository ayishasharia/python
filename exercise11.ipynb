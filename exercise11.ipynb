{
 "cells": [
  {
   "cell_type": "code",
   "execution_count": 2,
   "metadata": {},
   "outputs": [
    {
     "name": "stdout",
     "output_type": "stream",
     "text": [
      "Enter the number of elements:5\n",
      "enter element 1:ayisha\n",
      "enter element 2:sharia\n",
      "enter element 3:s1\n",
      "enter element 4:mca\n",
      "enter element 5:kmct\n",
      "ELEMENTS IN TUPLE : ('ayisha', 'sharia', 's1', 'mca', 'kmct')\n",
      "REVERSED TUPLE : ('kmct', 'mca', 's1', 'sharia', 'ayisha')\n"
     ]
    }
   ],
   "source": [
    "#Write a Python program to reverse a tuple.\n",
    "NoOfItems=int(input(\"Enter the number of elements:\"))\n",
    "elementList=list() #declared a list\n",
    "\n",
    "for i in range(NoOfItems):\n",
    "    element=input(\"enter element %d:\"%(i+1))\n",
    "    elementList.append(element) #each element is appended\n",
    "    \n",
    "elementTuple=tuple(elementList)\n",
    "print(\"ELEMENTS IN TUPLE :\",elementTuple)\n",
    "\n",
    "RevElementTuple=tuple(reversed(elementTuple))\n",
    "print(\"REVERSED TUPLE :\",RevElementTuple) #printing the reversed tuple"
   ]
  },
  {
   "cell_type": "code",
   "execution_count": 1,
   "metadata": {},
   "outputs": [
    {
     "name": "stdout",
     "output_type": "stream",
     "text": [
      "Enter the number of elements:5\n",
      "enter element 1:1\n",
      "enter element 2:2\n",
      "enter element 3:3\n",
      "enter element 4:4\n",
      "enter element 5:5\n",
      "ELEMENTS IN TUPLE : (1, 2, 3, 4, 5)\n",
      "AVERAGE OF GIVEN TUPLE: 3.0\n"
     ]
    }
   ],
   "source": [
    "#Write a Python program to calculate the average value of the numbers in a given tuple.\n",
    "NoOfItems=int(input(\"Enter the number of elements:\"))\n",
    "elementList=list() #declared a list\n",
    "\n",
    "for i in range(NoOfItems):\n",
    "    element=int(input(\"enter element %d:\"%(i+1)))\n",
    "    elementList.append(element) #each element is appended\n",
    "elementTuple=tuple(elementList)\n",
    "print(\"ELEMENTS IN TUPLE :\",elementTuple)\n",
    "average=sum(elementTuple)/len(elementTuple)\n",
    "print(\"AVERAGE OF GIVEN TUPLE:\",average)\n"
   ]
  },
  {
   "cell_type": "code",
   "execution_count": 3,
   "metadata": {},
   "outputs": [
    {
     "name": "stdout",
     "output_type": "stream",
     "text": [
      "Enter the number of elements:5\n",
      "enter element 1:100\n",
      "enter element 2:200\n",
      "enter element 3:300\n",
      "enter element 4:400\n",
      "enter element 5:500\n",
      "ELEMENTS IN TUPLE : ('100', '200', '300', '400', '500')\n",
      "enter item to remove :400\n",
      "TUPLE AFTER ELEMENT REMOVED: ('100', '200', '300', '500')\n"
     ]
    }
   ],
   "source": [
    "#Write a Python program to remove an item from a tuple.\n",
    "NoOfItems=int(input(\"Enter the number of elements:\"))\n",
    "elementList=list() #declared a list\n",
    "\n",
    "for i in range(NoOfItems):\n",
    "    element=input(\"enter element %d:\"%(i+1))\n",
    "    elementList.append(element) #each element is appended\n",
    "elementTuple=tuple(elementList)\n",
    "print(\"ELEMENTS IN TUPLE :\",elementTuple)\n",
    "item=input(\"enter item to remove :\") #reading the item to be removed\n",
    "index=elementTuple.index(item)\n",
    "elementTuple=elementTuple[0:index]+elementTuple[index+1:] #removing the item\n",
    "print(\"TUPLE AFTER ELEMENT REMOVED:\",elementTuple)"
   ]
  },
  {
   "cell_type": "code",
   "execution_count": 4,
   "metadata": {},
   "outputs": [
    {
     "name": "stdout",
     "output_type": "stream",
     "text": [
      "Enter the number of elements:8\n",
      "enter element 1:1\n",
      "enter element 2:2\n",
      "enter element 3:3\n",
      "enter element 4:4\n",
      "enter element 5:5\n",
      "enter element 6:6\n",
      "enter element 7:7\n",
      "enter element 8:8\n",
      "ELEMENTS IN TUPLE : ('1', '2', '3', '4', '5', '6', '7', '8')\n",
      "3rd ELEMENT FROM FIRST: 3\n",
      "3rd ELEMENT FROM LAST: 6\n"
     ]
    }
   ],
   "source": [
    "#Write a Python program to get the 3rd element and 3rd element from last of a tuple.\n",
    "NoOfItems=int(input(\"Enter the number of elements:\"))\n",
    "elementList=list() #declared a list\n",
    "\n",
    "for i in range(NoOfItems):\n",
    "    element=input(\"enter element %d:\"%(i+1))\n",
    "    elementList.append(element) #each element is appended\n",
    "elementTuple=tuple(elementList)\n",
    "print(\"ELEMENTS IN TUPLE :\",elementTuple)\n",
    "print(\"3rd ELEMENT FROM FIRST:\",elementTuple[2])\n",
    "print(\"3rd ELEMENT FROM LAST:\",elementTuple[-3])"
   ]
  },
  {
   "cell_type": "code",
   "execution_count": null,
   "metadata": {},
   "outputs": [],
   "source": []
  }
 ],
 "metadata": {
  "kernelspec": {
   "display_name": "Python 3",
   "language": "python",
   "name": "python3"
  },
  "language_info": {
   "codemirror_mode": {
    "name": "ipython",
    "version": 3
   },
   "file_extension": ".py",
   "mimetype": "text/x-python",
   "name": "python",
   "nbconvert_exporter": "python",
   "pygments_lexer": "ipython3",
   "version": "3.8.5"
  }
 },
 "nbformat": 4,
 "nbformat_minor": 4
}
