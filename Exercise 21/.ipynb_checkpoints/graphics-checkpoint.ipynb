{
 "cells": [
  {
   "cell_type": "code",
   "execution_count": 3,
   "metadata": {},
   "outputs": [],
   "source": [
    "# Create a package graphics with modules rectangle, circle and sub-package 3D-graphics with modules\n",
    "# cuboid and sphere. Include methods to find area and perimeter of respective figures in each module.\n",
    "# Write programs that finds area and perimeter of figures by different importing statements.\n",
    "# (Include selective import of modules and import * statements)"
   ]
  },
  {
   "cell_type": "code",
   "execution_count": 3,
   "metadata": {},
   "outputs": [
    {
     "name": "stdin",
     "output_type": "stream",
     "text": [
      "Enter length of cuboid  :  5\n",
      "Enter width of cuboid   :  5\n",
      "Enter height of cuboid  :  5\n"
     ]
    },
    {
     "name": "stdout",
     "output_type": "stream",
     "text": [
      "AREA :  150\n",
      "PERIMETER :  60\n"
     ]
    }
   ],
   "source": [
    "# AREA AND PERIMETER OF CUBOID\n",
    "\n",
    "from graphics._3D_graphics import cuboid   #IMPORTING CUBOID MODULE FROM SUB-PACKAGE '_3d_graphics'\n",
    "\n",
    "length =  int(input(\"Enter length of cuboid  : \"))\n",
    "width  =  int(input(\"Enter width of cuboid   : \"))\n",
    "height =  int(input(\"Enter height of cuboid  : \"))\n",
    "\n",
    "print(\"AREA : \",cuboid.area(length,width,height)) #CALLLING 'area' FUNCTION INSIDE CUBOID MODULE\n",
    "print(\"PERIMETER : \",cuboid.perimeter(length,width,height))#CALLING 'perimeter' FUNCTION INSIDE CUBOID MODULE\n",
    "      \n",
    "# OUTPUT\n",
    "# ------\n",
    "# Enter length of cuboid  :  5\n",
    "# Enter width of cuboid   :  5\n",
    "# Enter height of cuboid  :  5\n",
    "# AREA :  150\n",
    "# PERIMETER :  60\n"
   ]
  },
  {
   "cell_type": "code",
   "execution_count": 3,
   "metadata": {},
   "outputs": [
    {
     "name": "stdin",
     "output_type": "stream",
     "text": [
      "Enter Radius of Sphere :  5\n"
     ]
    },
    {
     "name": "stdout",
     "output_type": "stream",
     "text": [
      "AREA :  314.16\n",
      "PERIMETER :  523.6\n"
     ]
    }
   ],
   "source": [
    "# AREA AND PERIMETER OF SPHERE\n",
    "\n",
    "from graphics._3D_graphics.sphere import * #IMPORTING ALL FUNCTIONS INSIDE 'sphere' MODULE\n",
    "\n",
    "radius = int(input(\"Enter Radius of Sphere : \"))\n",
    "\n",
    "print(\"AREA : \",round(sphere.area(radius),2))\n",
    "print(\"PERIMETER : \",round(sphere.perimeter(radius),2))\n",
    "\n",
    "# OUTPUT\n",
    "# ------\n",
    "# Enter Radius of Sphere :  5\n",
    "# AREA :  314.16\n",
    "# PERIMETER :  523.6\n"
   ]
  },
  {
   "cell_type": "code",
   "execution_count": 4,
   "metadata": {},
   "outputs": [
    {
     "name": "stdin",
     "output_type": "stream",
     "text": [
      "Eneter radius of circle  :  5\n"
     ]
    },
    {
     "name": "stdout",
     "output_type": "stream",
     "text": [
      "AREA :  78.54\n",
      "PERIMETER :  31.42\n"
     ]
    }
   ],
   "source": [
    "# AREA AND PERIMETER OF CICRLE\n",
    "from graphics.circle import area # IMPORTING area FUNTCTION FROM CIRCLE MODULE\n",
    "from graphics.circle import perimeter #IMPORTING perimeter FUNCTION FROM CIRCLE MODULE\n",
    "\n",
    "radius=int(input(\"Eneter radius of circle  : \"))\n",
    "print(\"AREA : \", round(area(radius),2))\n",
    "print(\"PERIMETER : \",round(perimeter(radius),2))\n"
   ]
  },
  {
   "cell_type": "code",
   "execution_count": 1,
   "metadata": {},
   "outputs": [
    {
     "name": "stdin",
     "output_type": "stream",
     "text": [
      "Enter length of rectangle :  5\n",
      "Enter width of rectangle :  5\n"
     ]
    },
    {
     "name": "stdout",
     "output_type": "stream",
     "text": [
      "AREA :  25\n",
      "PERIMETER :  20\n"
     ]
    }
   ],
   "source": [
    "# AREA AND PERIMETER OF RECTANGLE \n",
    "\n",
    "import graphics.rectangle    #IMPORTING rectangle module\n",
    "\n",
    "length=int(input(\"Enter length of rectangle : \"))\n",
    "width=int(input(\"Enter width of rectangle : \"))\n",
    "\n",
    "print(\"AREA : \",graphics.rectangle.area(length,width))           #  HERE USING THE FULLNAME \n",
    "print(\"PERIMETER : \",graphics.rectangle.perimeter(length,width)) #  TO REFERENCE THE 'area' & 'perimeter' FUNCTION\n",
    "\n",
    "\n",
    "# OUTPUT\n",
    "# ------\n",
    "# Enter length of rectangle :  5\n",
    "# Enter width of rectangle :  5\n",
    "# AREA :  25\n",
    "# PERIMETER :  20\n",
    "           \n",
    "\n"
   ]
  },
  {
   "cell_type": "code",
   "execution_count": null,
   "metadata": {},
   "outputs": [],
   "source": []
  }
 ],
 "metadata": {
  "kernelspec": {
   "display_name": "Python 3",
   "language": "python",
   "name": "python3"
  },
  "language_info": {
   "codemirror_mode": {
    "name": "ipython",
    "version": 3
   },
   "file_extension": ".py",
   "mimetype": "text/x-python",
   "name": "python",
   "nbconvert_exporter": "python",
   "pygments_lexer": "ipython3",
   "version": "3.8.5"
  }
 },
 "nbformat": 4,
 "nbformat_minor": 4
}
