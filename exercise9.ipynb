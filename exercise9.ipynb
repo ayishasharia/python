{
 "cells": [
  {
   "cell_type": "code",
   "execution_count": 1,
   "metadata": {},
   "outputs": [
    {
     "name": "stdout",
     "output_type": "stream",
     "text": [
      "enter the number:35\n",
      "35 x 1 = 35\n",
      "35 x 2 = 70\n",
      "35 x 3 = 105\n",
      "35 x 4 = 140\n",
      "35 x 5 = 175\n",
      "35 x 6 = 210\n",
      "35 x 7 = 245\n",
      "35 x 8 = 280\n",
      "35 x 9 = 315\n",
      "35 x 10 = 350\n"
     ]
    }
   ],
   "source": [
    "#program to print the multiplication table\n",
    "num=int(input(\"enter the number:\"))\n",
    "i=0\n",
    "while(i<10):\n",
    "    i=i+1;\n",
    "    print(num,'x',i,'=',num*i)\n",
    "    "
   ]
  },
  {
   "cell_type": "code",
   "execution_count": 3,
   "metadata": {},
   "outputs": [
    {
     "name": "stdout",
     "output_type": "stream",
     "text": [
      "enter a number:5\n",
      "factorial of  5 is 120\n"
     ]
    }
   ],
   "source": [
    "#program to find factorial of a number\n",
    "num=int(input(\"enter a number:\"))\n",
    "fact=1\n",
    "i=1\n",
    "while(i<=num):\n",
    "    fact=fact*i\n",
    "    i=i+1\n",
    "print(\"factorial of \",num,\"is\",fact)"
   ]
  },
  {
   "cell_type": "code",
   "execution_count": 1,
   "metadata": {},
   "outputs": [
    {
     "name": "stdout",
     "output_type": "stream",
     "text": [
      "enter the number:456\n",
      "the number of digits in the number: 3\n"
     ]
    }
   ],
   "source": [
    "#program to count the number of digits of a given number\n",
    "n=int(input(\"enter the number:\"))\n",
    "count=0\n",
    "while(n>0):\n",
    "    count=count+1\n",
    "    n=n//10\n",
    "print(\"the number of digits in the number:\",count)"
   ]
  },
  {
   "cell_type": "code",
   "execution_count": null,
   "metadata": {},
   "outputs": [],
   "source": [
    "#program to count the number of digits of a given number\n",
    "n=int(input(\"enter the number:\"))\n",
    "count=0\n",
    "while(n>0):\n",
    "    count=count+1\n",
    "    n=n/10\n",
    "print(\"the number of digits in the number:\",count)"
   ]
  },
  {
   "cell_type": "code",
   "execution_count": null,
   "metadata": {},
   "outputs": [],
   "source": [
    "#program to reverse a given number\n",
    "num=int(input(\"enter the number:\"))\n",
    "rev=0\n",
    "while(num>0):\n",
    "    rem=num%10\n",
    "    rev=(rev*10)+rem\n",
    "    num=num\\\\10\n",
    "print(\"the reverse of the number is:\",rev)"
   ]
  },
  {
   "cell_type": "code",
   "execution_count": null,
   "metadata": {},
   "outputs": [],
   "source": [
    "# Python Program to Reverse a Number using While loop.\n",
    "Number = int(input(\"Please Enter any Number: \"))\n",
    "Reverse = 0.\n",
    "while(Number > 0):\n",
    "Reminder = Number %10.\n",
    "Reverse = (Reverse *10) + Reminder.\n",
    "Number = Number //10.\n",
    "print(\"\\n Reverse of entered number is = %d\" %Reverse)"
   ]
  },
  {
   "cell_type": "code",
   "execution_count": null,
   "metadata": {},
   "outputs": [],
   "source": []
  },
  {
   "cell_type": "code",
   "execution_count": null,
   "metadata": {},
   "outputs": [],
   "source": []
  }
 ],
 "metadata": {
  "kernelspec": {
   "display_name": "Python 3",
   "language": "python",
   "name": "python3"
  },
  "language_info": {
   "codemirror_mode": {
    "name": "ipython",
    "version": 3
   },
   "file_extension": ".py",
   "mimetype": "text/x-python",
   "name": "python",
   "nbconvert_exporter": "python",
   "pygments_lexer": "ipython3",
   "version": "3.8.5"
  }
 },
 "nbformat": 4,
 "nbformat_minor": 4
}
