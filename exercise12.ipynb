{
 "cells": [
  {
   "cell_type": "code",
   "execution_count": 1,
   "metadata": {},
   "outputs": [
    {
     "name": "stdout",
     "output_type": "stream",
     "text": [
      "enter list of integers seprated by space :1 -2 4 0 -8\n",
      "positive integers [1, 4]\n"
     ]
    }
   ],
   "source": [
    "#Generate positive list of numbers from a given list of integer\n",
    "  \n",
    "\n",
    "lists=list(map(int,input(\"enter list of integers seprated by space :\").split()))#to enter integersfrom user\n",
    "newlist=[x for x in lists if x>0]#to lists only positive integers that areenterd by the user\n",
    "print(\"positive integers\",newlist)"
   ]
  },
  {
   "cell_type": "code",
   "execution_count": 2,
   "metadata": {},
   "outputs": [
    {
     "name": "stdout",
     "output_type": "stream",
     "text": [
      "enter list of integer seprated by space : 2 4 6 8\n",
      "squre of numbers: [4, 16, 36, 64]\n"
     ]
    }
   ],
   "source": [
    "#Square of N numbersdef squares(n):\n",
    "lists=list(map(int,input(\"enter list of integer seprated by space : \").split()))#to enter integer from user\n",
    "newlist=[x**2 for x in lists]#for getting list of element that are squre of enter element\n",
    "print(\"squre of numbers:\",newlist)"
   ]
  },
  {
   "cell_type": "code",
   "execution_count": 3,
   "metadata": {},
   "outputs": [
    {
     "name": "stdout",
     "output_type": "stream",
     "text": [
      "enter a string:ayisha\n",
      "vowels in string is : ['a', 'i', 'a']\n"
     ]
    }
   ],
   "source": [
    "# Form a list of vowels selected from a given word\n",
    "string=input(\"enter a string:\")#to enter a string of user\n",
    "vowel=['a','e','i','o','u']\n",
    "newlist=[x for x in string if x in vowel]\n",
    "print(\"vowels in string is :\",newlist)"
   ]
  },
  {
   "cell_type": "code",
   "execution_count": 4,
   "metadata": {},
   "outputs": [
    {
     "name": "stdout",
     "output_type": "stream",
     "text": [
      "Enter a string :ayisha sha\n",
      "[97, 121, 105, 115, 104, 97, 32, 115, 104, 97]\n"
     ]
    }
   ],
   "source": [
    "#List ordinal value of each element of a word (Hint: use ord() to get  ordinal values\n",
    "string=input(\"Enter a string :\")\n",
    "ordlist=[ord(string[x])for x in range(len(string))]\n",
    "print(ordlist)"
   ]
  },
  {
   "cell_type": "code",
   "execution_count": null,
   "metadata": {},
   "outputs": [],
   "source": []
  }
 ],
 "metadata": {
  "kernelspec": {
   "display_name": "Python 3",
   "language": "python",
   "name": "python3"
  },
  "language_info": {
   "codemirror_mode": {
    "name": "ipython",
    "version": 3
   },
   "file_extension": ".py",
   "mimetype": "text/x-python",
   "name": "python",
   "nbconvert_exporter": "python",
   "pygments_lexer": "ipython3",
   "version": "3.8.5"
  }
 },
 "nbformat": 4,
 "nbformat_minor": 4
}
