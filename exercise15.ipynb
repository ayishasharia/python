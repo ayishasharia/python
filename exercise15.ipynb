{
 "cells": [
  {
   "cell_type": "code",
   "execution_count": 10,
   "metadata": {},
   "outputs": [
    {
     "name": "stdout",
     "output_type": "stream",
     "text": [
      "Enter three number:3,3,3\n",
      "The Sum is: 9\n"
     ]
    }
   ],
   "source": [
    "# Write a Python function to calculate the sum of three given numbers, if the\n",
    "#values are equal then return thrice their sum.\n",
    "\n",
    "a=list(map(int,input(\"Enter three number:\").split(\",\")))\n",
    "def Sum(a,b,c):#function defined\n",
    "    \n",
    "    if(a==b and b==c):#a=b and a=c\n",
    "        sum1=3*a #values equal then thrice their sum\n",
    "        return sum1\n",
    "sum2=Sum(a[0],a[1],a[2])#store the value in sum2\n",
    "print(\"The Sum is:\",sum2)#print sum\n",
    "\n"
   ]
  },
  {
   "cell_type": "code",
   "execution_count": 1,
   "metadata": {},
   "outputs": [
    {
     "name": "stdout",
     "output_type": "stream",
     "text": [
      "Enter  a string:ayisha\n",
      "New string is: Isayisha\n"
     ]
    }
   ],
   "source": [
    "#Write a Python function to get a new string from a given string where “Is” has\n",
    "#been added to the front. If the given string already begins with “Is” then return\n",
    "#the string unchanged.\n",
    "\n",
    "\n",
    "a=input(\"Enter  a string:\")#enter string\n",
    "def string(a):#function string is defined\n",
    "    if(a[0]!=\"I\" or a[1]!=\"S\"):# if the index 0 and 1 are not 'I' and'S'\n",
    "        a=\"Is\"+a\n",
    "        return a\n",
    "a1=string(a)#store the value in a1\n",
    "print(\"New string is:\",a1)#print string"
   ]
  },
  {
   "cell_type": "code",
   "execution_count": 3,
   "metadata": {},
   "outputs": [
    {
     "name": "stdout",
     "output_type": "stream",
     "text": [
      "Enter a number :1993\n",
      "The sum is: 22\n"
     ]
    }
   ],
   "source": [
    "# Write a Python function to find the sum of digits of a number.\n",
    "a=int(input(\"Enter a number :\"))#enter the number\n",
    "def Sum(a):\n",
    "    rem=0;sum=0;\n",
    "    while a>0:\n",
    "        rem=a%10 #remainder store to rem\n",
    "        sum=sum+rem #except the remainder value balance is added to the sum\n",
    "        a=int(a/10)\n",
    "    return sum\n",
    "s2=Sum(a)    #value store in s2\n",
    "print(\"The sum is:\",s2)   #print sum\n"
   ]
  },
  {
   "cell_type": "code",
   "execution_count": 7,
   "metadata": {},
   "outputs": [
    {
     "name": "stdout",
     "output_type": "stream",
     "text": [
      "Enter a number:15\n",
      "1\n",
      "3\n",
      "5\n"
     ]
    }
   ],
   "source": [
    "# Write a Python function to generate all the factors of a number.\n",
    "\n",
    "\n",
    "a=int(input(\"Enter a number:\"))\n",
    "def fact(a):\n",
    "    for i in range(1,a):\n",
    "        if(a%i==0):\n",
    "         print(i)\n",
    "fact(a)"
   ]
  },
  {
   "cell_type": "code",
   "execution_count": 9,
   "metadata": {},
   "outputs": [
    {
     "name": "stdout",
     "output_type": "stream",
     "text": [
      "Enter the principle amount:20000\n",
      "Enter rate of interest:4\n",
      "Enter time period:3\n",
      "The simple interest is: 2400.0\n"
     ]
    }
   ],
   "source": [
    "#write a python function to calculate the simple interest.(Use keyword arguments)\n",
    "\n",
    "p=int(input(\"Enter the principle amount:\"))  # enter principle amount\n",
    "r=int(input(\"Enter rate of interest:\")) #enter rate of interest\n",
    "t=int(input(\"Enter time period:\"))#enter time period\n",
    "def si(principle,rate,time):#function defined\n",
    "    i=(principle*rate*time)/100#simple interest is calculated\n",
    "    print(\"The simple interest is:\",i)\n",
    "si(p,time=t,rate=r)#rate and time used as keyword argument"
   ]
  },
  {
   "cell_type": "code",
   "execution_count": null,
   "metadata": {},
   "outputs": [],
   "source": []
  }
 ],
 "metadata": {
  "kernelspec": {
   "display_name": "Python 3",
   "language": "python",
   "name": "python3"
  },
  "language_info": {
   "codemirror_mode": {
    "name": "ipython",
    "version": 3
   },
   "file_extension": ".py",
   "mimetype": "text/x-python",
   "name": "python",
   "nbconvert_exporter": "python",
   "pygments_lexer": "ipython3",
   "version": "3.8.5"
  }
 },
 "nbformat": 4,
 "nbformat_minor": 4
}
