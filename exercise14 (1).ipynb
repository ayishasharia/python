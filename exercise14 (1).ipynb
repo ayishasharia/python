{
 "cells": [
  {
   "cell_type": "code",
   "execution_count": 1,
   "metadata": {},
   "outputs": [
    {
     "name": "stdout",
     "output_type": "stream",
     "text": [
      "Enter the list of element:5 7 8\n",
      "Sum of numbers in the list: 20\n"
     ]
    }
   ],
   "source": [
    "# Write a Python function to sum all the numbers in a list.\n",
    "\n",
    "def sum(list):#function to sum of numbers\n",
    "    sum=0\n",
    "    for x in list:\n",
    "        sum=sum+x\n",
    "    return sum\n",
    "a=list(map(int,input(\"Enter the list of element:\").split()))#read the value from the user\n",
    "print(\"Sum of numbers in the list:\",sum(a))#sum of numbers in the list\n",
    "\n",
    "\n",
    "\n"
   ]
  },
  {
   "cell_type": "code",
   "execution_count": 11,
   "metadata": {},
   "outputs": [
    {
     "name": "stdout",
     "output_type": "stream",
     "text": [
      "Enter the future year:2028\n",
      "2028 is a leap year\n"
     ]
    }
   ],
   "source": [
    "# Display future leap years from current year to a final year entered by user.\n",
    "\n",
    "n=int(input(\"Enter the future year:\"))#enterthe future year\n",
    "if(n%4==0):\n",
    "     print(\"%d is a leap year\"%n)#print  the enterd year is a leap year\n",
    "else:\n",
    "     print(\"%d is not a leap year\"%n)#print the enterd year is not a leapn year"
   ]
  },
  {
   "cell_type": "code",
   "execution_count": 2,
   "metadata": {},
   "outputs": [
    {
     "name": "stdout",
     "output_type": "stream",
     "text": [
      "Enter the element:ANAGHA Anu\n",
      "The upper case letters are: 7\n",
      "The lower case letters are: 2\n"
     ]
    }
   ],
   "source": [
    "# Write a Python function that accepts a string and calculate the number of uppercase letters and lower case letters.\n",
    "def string(s):#function to defined lowercase and uppercase element\n",
    "        c1=0\n",
    "        c2=0\n",
    "        for i in s:\n",
    "            if(i.isupper()):\n",
    "                c1=c1+1\n",
    "            elif(i.islower()):\n",
    "                 c2=c2+1\n",
    "        print(\"The upper case letters are:\",c1)#print the number of uppercase letters in the string\n",
    "        print(\"The lower case letters are:\",c2)#print the number is lowercase letters in the string\n",
    "a=input(\"Enter the element:\")#enter the element\n",
    "string(a)#calling function"
   ]
  },
  {
   "cell_type": "code",
   "execution_count": 3,
   "metadata": {},
   "outputs": [
    {
     "name": "stdout",
     "output_type": "stream",
     "text": [
      "Enter the number:5\n",
      "The factorial of 5 is 120:\n"
     ]
    }
   ],
   "source": [
    "# Write a Python function to calculate the factorial of a number (a non-negative\n",
    "#integer). The function accepts the number as an argument.\n",
    "\n",
    "def fact(n):#function to find factorial number\n",
    "    if n==0:\n",
    "        return 1\n",
    "    else:\n",
    "        return n*fact(n-1)\n",
    "n=int(input(\"Enter the number:\"))#enter the number from the user\n",
    "print(\"The factorial of %d is %d:\" %(n,fact(n)))#print the factorial of the given number"
   ]
  },
  {
   "cell_type": "code",
   "execution_count": 4,
   "metadata": {},
   "outputs": [
    {
     "name": "stdout",
     "output_type": "stream",
     "text": [
      "enter a number5\n",
      "prime number\n"
     ]
    }
   ],
   "source": [
    "# Write a Python function that takes a number as a parameter and check thenumber is prime or not.\n",
    "\n",
    "\n",
    "def state(n):#function to check entered  number is prime or not\n",
    "    if n>1:#if the number is greaterthan1\n",
    "        for i in range(2,n):#itreate from 2 to n\n",
    "            if n%i==0:#if number is divisible by any number between 2 and n\n",
    "                return(\"not prime number\")#return not a prime number\n",
    "                break#break statement if find a divisor\n",
    "            else:#otherwise\n",
    "                return(\"prime number\")#return prime number\n",
    "    else:#if the number lessthan or equal to 1\n",
    "        return(\"not a prime number\")#return not a prime number\n",
    "a=int(input(\"enter a number\"))\n",
    "print(state(a))#call the function state(a)\n",
    "                "
   ]
  },
  {
   "cell_type": "code",
   "execution_count": 7,
   "metadata": {},
   "outputs": [
    {
     "name": "stdout",
     "output_type": "stream",
     "text": [
      "Enter  number seperated by space: 2 3 4 5 6 7 \n",
      "List after removing even numbers: [3, 5, 7]\n"
     ]
    }
   ],
   "source": [
    "# From a list of integers, create a list removing even numbers.\n",
    "\n",
    "n=list(map(int,input(\"Enter  number seperated by space:\").split()))#enter list of number seperated by space\n",
    "for i in n:\n",
    "    if(i%2==0):\n",
    "        n.remove(i)\n",
    "print(\"List after removing even numbers:\",n)#print list after removing"
   ]
  },
  {
   "cell_type": "code",
   "execution_count": null,
   "metadata": {},
   "outputs": [],
   "source": []
  }
 ],
 "metadata": {
  "kernelspec": {
   "display_name": "Python 3",
   "language": "python",
   "name": "python3"
  },
  "language_info": {
   "codemirror_mode": {
    "name": "ipython",
    "version": 3
   },
   "file_extension": ".py",
   "mimetype": "text/x-python",
   "name": "python",
   "nbconvert_exporter": "python",
   "pygments_lexer": "ipython3",
   "version": "3.8.5"
  }
 },
 "nbformat": 4,
 "nbformat_minor": 4
}
