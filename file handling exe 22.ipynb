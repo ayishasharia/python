{
 "cells": [
  {
   "cell_type": "code",
   "execution_count": 1,
   "metadata": {},
   "outputs": [],
   "source": [
    "f=open(\"F:\\myfile.txt\",\"w\")\n",
    "f.write(\"hello! learn python files\")\n",
    "f.close()"
   ]
  },
  {
   "cell_type": "code",
   "execution_count": 3,
   "metadata": {},
   "outputs": [],
   "source": [
    "lines=[\"hello world.\\n\",\"welcome to the world of python. \\n\"]\n",
    "f=open(\"F:\\myfile.txt\",\"w\")\n",
    "f.writelines(lines)\n",
    "f.close()"
   ]
  },
  {
   "cell_type": "code",
   "execution_count": 2,
   "metadata": {},
   "outputs": [
    {
     "name": "stdout",
     "output_type": "stream",
     "text": [
      "hello world.\n",
      "\n"
     ]
    }
   ],
   "source": [
    "f=open(\"F:\\myfile.txt\",\"r\")\n",
    "line=f.readline()\n",
    "print(line)\n",
    "f.close()\n"
   ]
  },
  {
   "cell_type": "code",
   "execution_count": 3,
   "metadata": {},
   "outputs": [
    {
     "name": "stdout",
     "output_type": "stream",
     "text": [
      "hello world.\n",
      "\n",
      "welcome to the world of python. \n",
      "\n"
     ]
    }
   ],
   "source": [
    "f=open(\"F:\\myfile.txt\",\"r\")\n",
    "for line in f:\n",
    "     print(line)\n",
    "f.close()"
   ]
  },
  {
   "cell_type": "code",
   "execution_count": 4,
   "metadata": {},
   "outputs": [],
   "source": [
    "f=open(\"F:\\myfile.txt\",\"a+\")\n",
    "f.write(\"Hello!learn Python.\")\n",
    "line=f.readline()\n",
    "f.close()"
   ]
  },
  {
   "cell_type": "code",
   "execution_count": 7,
   "metadata": {},
   "outputs": [
    {
     "name": "stdout",
     "output_type": "stream",
     "text": [
      "world.\n",
      "\n",
      "welcome to the world of python. \n",
      "\n",
      "Hello!learn Python.\n"
     ]
    }
   ],
   "source": [
    "f=open(\"F:\\myfile.txt\",\"r+\")\n",
    "f.seek(6,0)\n",
    "lines=f.readlines()\n",
    "for line in lines:\n",
    "    print(line)\n",
    "f.close()"
   ]
  },
  {
   "cell_type": "code",
   "execution_count": null,
   "metadata": {},
   "outputs": [],
   "source": []
  },
  {
   "cell_type": "code",
   "execution_count": 1,
   "metadata": {},
   "outputs": [
    {
     "name": "stdout",
     "output_type": "stream",
     "text": [
      "enter the source file to be copied:first_file.txt\n",
      "enter the destination file:second_file.txt\n",
      "file copied\n"
     ]
    }
   ],
   "source": [
    "#1. program to copy a text file to another file.\n",
    "file1=input(\"enter the source file to be copied:\")\n",
    "file2=input(\"enter the destination file:\")\n",
    "fr=open(file1,\"r\")\n",
    "fw=open(file2,\"w\")\n",
    "for line in fr.readlines():\n",
    "    fw.write(line)\n",
    "fr.close()\n",
    "fw.close()\n",
    "print(\"file copied\")"
   ]
  },
  {
   "cell_type": "code",
   "execution_count": 1,
   "metadata": {},
   "outputs": [
    {
     "name": "stdout",
     "output_type": "stream",
     "text": [
      "enter the name of file:first_file.txt\n",
      "number of line is 1\n"
     ]
    }
   ],
   "source": [
    "#2. python program to count the number of lines in a text file\n",
    "file=input(\"enter the name of file:\")\n",
    "f=open(file,\"r\")\n",
    "line=f.read()\n",
    "count=0\n",
    "words=line.split(\"\\n\")\n",
    "for i in words:\n",
    "    count=count+1\n",
    "print(\"number of line is\",count)"
   ]
  },
  {
   "cell_type": "code",
   "execution_count": 2,
   "metadata": {},
   "outputs": [
    {
     "name": "stdout",
     "output_type": "stream",
     "text": [
      "Number of lines: 3\n"
     ]
    }
   ],
   "source": [
    "fr=open(\"F:\\myfile.txt\",\"r\")\n",
    "countlines=0\n",
    "for line in fr.readlines():\n",
    "    countlines=countlines+1\n",
    "print(\"Number of lines:\",countlines)\n",
    "fr.close()"
   ]
  },
  {
   "cell_type": "code",
   "execution_count": 4,
   "metadata": {},
   "outputs": [
    {
     "name": "stdout",
     "output_type": "stream",
     "text": [
      "enter the first file:first_file.txt\n",
      "enter the second file:second_file.txt\n",
      "content of first file before appending it is first file\n",
      "content of second file before appending it is first file\n",
      "content of first file after appending it is first file\n",
      "content of second file after appending it is first fileit is first file\n"
     ]
    }
   ],
   "source": [
    "#write a program to append a file with the contents of another file.\n",
    "firstfile=input(\"enter the first file:\") #entering file names\n",
    "secondfile=input(\"enter the second file:\")\n",
    "f1= open(firstfile,'r') #opening first file in read mode\n",
    "f2= open(secondfile,'r')\n",
    "print(\"content of first file before appending\",f1.read())\n",
    "print(\"content of second file before appending\",f2.read())\n",
    "f1.close() #closing files\n",
    "f2.close()\n",
    "f1=open(firstfile,\"r\") #for appending\n",
    "data2=f1.read()\n",
    "f1.close()\n",
    "f2=open(secondfile,\"a\")\n",
    "f2.write(data2)\n",
    "f2=open(secondfile,\"r\")\n",
    "data3=f2.read()\n",
    "f2.close()\n",
    "print('content of first file after appending',data2) #printing content of file after appending\n",
    "print('content of second file after appending',data3)\n",
    "f1.close()\n",
    "f2.close()"
   ]
  },
  {
   "cell_type": "code",
   "execution_count": 3,
   "metadata": {},
   "outputs": [
    {
     "name": "stdout",
     "output_type": "stream",
     "text": [
      "['world.']\n"
     ]
    }
   ],
   "source": [
    "# write a program to find the longest word\n",
    "with open(\"F:\\myfile.txt\",\"r\") as fn:\n",
    "    words=fn.read().split()\n",
    "max_len=len(max(words))\n",
    "long_word=[word for word in words if len(word)==max_len]\n",
    "print(long_word)\n",
    "fn.close()"
   ]
  },
  {
   "cell_type": "code",
   "execution_count": 4,
   "metadata": {},
   "outputs": [
    {
     "name": "stdout",
     "output_type": "stream",
     "text": [
      "hello world.\n",
      "welcome to the world of python. \n",
      "Hello!learn Python.\n"
     ]
    }
   ],
   "source": [
    "#program to read a file line by line and stored into a list\n",
    "f=open(\"F:\\myfile.txt\",\"r\")\n",
    "line=f.read()\n",
    "lines=line.split(\"\\n\")\n",
    "for line in lines:\n",
    "    print(line)\n",
    "f.close()"
   ]
  },
  {
   "cell_type": "code",
   "execution_count": null,
   "metadata": {},
   "outputs": [],
   "source": []
  }
 ],
 "metadata": {
  "kernelspec": {
   "display_name": "Python 3",
   "language": "python",
   "name": "python3"
  },
  "language_info": {
   "codemirror_mode": {
    "name": "ipython",
    "version": 3
   },
   "file_extension": ".py",
   "mimetype": "text/x-python",
   "name": "python",
   "nbconvert_exporter": "python",
   "pygments_lexer": "ipython3",
   "version": "3.8.5"
  }
 },
 "nbformat": 4,
 "nbformat_minor": 4
}
