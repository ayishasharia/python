{
 "cells": [
  {
   "cell_type": "code",
   "execution_count": 1,
   "metadata": {},
   "outputs": [
    {
     "name": "stdout",
     "output_type": "stream",
     "text": [
      "enter the first number:49\n",
      "enter the second number:57\n",
      "enter the third number:36\n",
      "biggest among the given three number is: 57\n"
     ]
    }
   ],
   "source": [
    "#program to find biggest of 3 numbers\n",
    "n1=int(input(\"enter the first number:\"))\n",
    "n2=int(input(\"enter the second number:\"))\n",
    "n3=int(input(\"enter the third number:\"))\n",
    "big=max(n1,n2,n3) #finding biggest by using the function max\n",
    "print(\"biggest among the given three number is:\",big)\n"
   ]
  },
  {
   "cell_type": "code",
   "execution_count": 2,
   "metadata": {},
   "outputs": [
    {
     "name": "stdout",
     "output_type": "stream",
     "text": [
      "enter a string:hello\n",
      "oellh\n"
     ]
    }
   ],
   "source": [
    "#program to change a string to a new string to a new string where first and last chars are exchanged\n",
    "s=input(\"enter a string:\")\n",
    "print(s[-1:] + s[1:-1] + s[:1]) #exchanging the first and last char by changing position"
   ]
  },
  {
   "cell_type": "code",
   "execution_count": null,
   "metadata": {},
   "outputs": [],
   "source": []
  }
 ],
 "metadata": {
  "kernelspec": {
   "display_name": "Python 3",
   "language": "python",
   "name": "python3"
  },
  "language_info": {
   "codemirror_mode": {
    "name": "ipython",
    "version": 3
   },
   "file_extension": ".py",
   "mimetype": "text/x-python",
   "name": "python",
   "nbconvert_exporter": "python",
   "pygments_lexer": "ipython3",
   "version": "3.8.5"
  }
 },
 "nbformat": 4,
 "nbformat_minor": 4
}
