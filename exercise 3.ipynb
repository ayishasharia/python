{
 "cells": [
  {
   "cell_type": "code",
   "execution_count": 1,
   "metadata": {},
   "outputs": [
    {
     "name": "stdout",
     "output_type": "stream",
     "text": [
      "enter the value in degree celcius:29\n",
      "the value in fahrenheit is: 84.2\n"
     ]
    }
   ],
   "source": [
    "#program to convert degree celcius to fareheit\n",
    "c=int(input(\"enter the value in degree celcius:\"))\n",
    "# reading the degree celcius value\n",
    "f=(c*1.8)+32\n",
    "print(\"the value in fahrenheit is:\",f)"
   ]
  },
  {
   "cell_type": "code",
   "execution_count": 4,
   "metadata": {},
   "outputs": [
    {
     "name": "stdout",
     "output_type": "stream",
     "text": [
      "enter a value in km:6.5\n",
      "the mile value of the corresponding kms is: 4.038905\n"
     ]
    }
   ],
   "source": [
    "#program to convert km to miles\n",
    "k=float(input(\"enter a value in km:\"))\n",
    "m=k*0.62137\n",
    "print(\"the mile value of the corresponding kms is:\",m)"
   ]
  },
  {
   "cell_type": "code",
   "execution_count": 7,
   "metadata": {},
   "outputs": [
    {
     "name": "stdout",
     "output_type": "stream",
     "text": [
      "enter the first number:5\n",
      "enter the second number:3\n",
      "value of num1 after swapping is: 3\n",
      "value of num2 after swapping is: 5\n"
     ]
    }
   ],
   "source": [
    "#program to swap two variables\n",
    "num1=int(input(\"enter the first number:\"))\n",
    "num2=int(input(\"enter the second number:\"))\n",
    "temp=num1\n",
    "num1=num2\n",
    "num2=temp\n",
    "print(\"value of num1 after swapping is:\",num1)\n",
    "print(\"value of num2 after swapping is:\",num2)\n"
   ]
  },
  {
   "cell_type": "code",
   "execution_count": null,
   "metadata": {},
   "outputs": [],
   "source": []
  }
 ],
 "metadata": {
  "kernelspec": {
   "display_name": "Python 3",
   "language": "python",
   "name": "python3"
  },
  "language_info": {
   "codemirror_mode": {
    "name": "ipython",
    "version": 3
   },
   "file_extension": ".py",
   "mimetype": "text/x-python",
   "name": "python",
   "nbconvert_exporter": "python",
   "pygments_lexer": "ipython3",
   "version": "3.8.5"
  }
 },
 "nbformat": 4,
 "nbformat_minor": 4
}
