{
 "cells": [
  {
   "cell_type": "code",
   "execution_count": 1,
   "metadata": {},
   "outputs": [
    {
     "name": "stdout",
     "output_type": "stream",
     "text": [
      "enter a string:ayisha123\n",
      "number of characters: 6\n",
      "number of digits: 3\n"
     ]
    }
   ],
   "source": [
    "#Write a Python program that accepts a string and calculate the number of digits and letters\n",
    "string=input(\"enter a string:\")\n",
    "digit=0;character=0\n",
    "for i in string:\n",
    "    if i.isdigit():\n",
    "        digit+=1\n",
    "    elif i.isalpha():\n",
    "        character+=1\n",
    "print(\"number of characters:\",character)\n",
    "print(\"number of digits:\",digit)"
   ]
  },
  {
   "cell_type": "code",
   "execution_count": 2,
   "metadata": {},
   "outputs": [
    {
     "name": "stdout",
     "output_type": "stream",
     "text": [
      "0\n",
      "1\n",
      "3\n",
      "4\n",
      "6\n",
      "7\n",
      "8\n",
      "9\n",
      "10\n"
     ]
    }
   ],
   "source": [
    "#Write a Python program that prints all the numbers from 0 to 10 except 2 and 5.\n",
    "for number in range(11):\n",
    "    if number==2 or number==5:\n",
    "        continue\n",
    "    print(number)"
   ]
  },
  {
   "cell_type": "code",
   "execution_count": 4,
   "metadata": {},
   "outputs": [
    {
     "name": "stdout",
     "output_type": "stream",
     "text": [
      "enter number of items in a list:3\n",
      "enter item 1:1\n",
      "enter item 2:2\n",
      "enter item 3:3\n",
      "enterd list: [1, 2, 3]\n",
      "sum of items in list: 6\n"
     ]
    }
   ],
   "source": [
    "#Find the sum of all items in a list. User should enter elements of the list.\n",
    "no_of_items=int(input(\"enter number of items in a list:\"))\n",
    "itemList=list()\n",
    "sum=0\n",
    "\n",
    "for i in range(no_of_items):\n",
    "    item=int(input(\"enter item %d:\"%(i+1)))\n",
    "    itemList.append(item)\n",
    "print(\"enterd list:\",itemList)\n",
    "                \n",
    "for item in itemList:\n",
    "    sum+=item\n",
    "print(\"sum of items in list:\",sum)                "
   ]
  },
  {
   "cell_type": "code",
   "execution_count": 6,
   "metadata": {},
   "outputs": [
    {
     "name": "stdout",
     "output_type": "stream",
     "text": [
      "enter number of step5\n",
      "\n",
      "1 \n",
      "2 4 \n",
      "3 6 9 \n",
      "4 8 12 16 \n",
      "5 10 15 20 25 "
     ]
    }
   ],
   "source": [
    "#Display the given pyramid with step number accepted from user. Eg: N=4\n",
    "#1\n",
    "#2 4\n",
    "#3 6 9\n",
    "#4 8 12 16\n",
    "\n",
    "step=int(input(\"enter number of step\")) #entering limit\n",
    "for i in range(1,step+1):\n",
    "    print(\"\")\n",
    "    for j in range(1,i+1):\n",
    "        print(i*j,end=' ') #printing values as pyramid"
   ]
  },
  {
   "cell_type": "code",
   "execution_count": 11,
   "metadata": {},
   "outputs": [
    {
     "name": "stdout",
     "output_type": "stream",
     "text": [
      "enter a string:ayisha\n",
      "frequncy of 'a': 2\n",
      "frequncy of 'y': 1\n",
      "frequncy of 'i': 1\n",
      "frequncy of 's': 1\n",
      "frequncy of 'h': 1\n"
     ]
    }
   ],
   "source": [
    "#Count the number of characters(character frequency) in a string.\n",
    "string=input(\"enter a string:\")\n",
    "charlist=list() #declare list and store character\n",
    "resultlist=list() #store character frequency without repeatition\n",
    "\n",
    "for i in string: #variable i access all characters of the string\n",
    "    count=0 #store character frequency of each character\n",
    "    for j in string:\n",
    "        if i==j:\n",
    "            count+=1\n",
    "    charlist.append(\"frequncy of '%s': %d\"%(i,count))\n",
    "for i in charlist: #i access values from charlist\n",
    "    if i not in resultlist: #checking if i value already present or not\n",
    "         resultlist.append(i) #appending i value\n",
    "for i in resultlist:\n",
    "    print(i) #prin values\n",
    "\n"
   ]
  },
  {
   "cell_type": "code",
   "execution_count": 12,
   "metadata": {},
   "outputs": [
    {
     "name": "stdout",
     "output_type": "stream",
     "text": [
      "\n",
      "*\n",
      "**\n",
      "***\n",
      "****\n",
      "*****\n",
      "****\n",
      "***\n",
      "**\n",
      "*"
     ]
    }
   ],
   "source": [
    "#Construct following pattern using nested loop.\n",
    "#*\n",
    "#**\n",
    "#***\n",
    "#****\n",
    "#*****\n",
    "#****\n",
    "#***\n",
    "#**\n",
    "#*\n",
    "for i in range(1,5):\n",
    "    print()\n",
    "    for j in range(i):\n",
    "        print(\"*\",end='')\n",
    "\n",
    "for i in range(5,0,-1):\n",
    "    print()\n",
    "    for j in range(i):\n",
    "        print(\"*\",end='')\n"
   ]
  },
  {
   "cell_type": "code",
   "execution_count": null,
   "metadata": {},
   "outputs": [],
   "source": []
  }
 ],
 "metadata": {
  "kernelspec": {
   "display_name": "Python 3",
   "language": "python",
   "name": "python3"
  },
  "language_info": {
   "codemirror_mode": {
    "name": "ipython",
    "version": 3
   },
   "file_extension": ".py",
   "mimetype": "text/x-python",
   "name": "python",
   "nbconvert_exporter": "python",
   "pygments_lexer": "ipython3",
   "version": "3.8.5"
  }
 },
 "nbformat": 4,
 "nbformat_minor": 4
}
