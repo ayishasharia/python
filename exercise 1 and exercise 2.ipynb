{
 "cells": [
  {
   "cell_type": "code",
   "execution_count": 1,
   "metadata": {},
   "outputs": [
    {
     "name": "stdout",
     "output_type": "stream",
     "text": [
      "Enter the side of the sqaure:5\n",
      "Area of the given square is: 25\n"
     ]
    }
   ],
   "source": [
    "#program to calculate the area of square\n",
    "a=int(input(\"Enter the side of the sqaure:\"))\n",
    "area=a*a\n",
    "print(\"Area of the given square is:\",area)"
   ]
  },
  {
   "cell_type": "code",
   "execution_count": 2,
   "metadata": {},
   "outputs": [
    {
     "name": "stdout",
     "output_type": "stream",
     "text": [
      "Enter the base:2\n",
      "Enter the height:3\n",
      "Area of the right angled triangle is: 3.0\n"
     ]
    }
   ],
   "source": [
    "#program to compute the area of a right angled triangle\n",
    "a=int(input(\"Enter the base:\"))\n",
    "b=int(input(\"Enter the height:\"))\n",
    "area=(a*b)/2 #area of right angled traingle\n",
    "print(\"Area of the right angled triangle is:\",area)"
   ]
  },
  {
   "cell_type": "code",
   "execution_count": 13,
   "metadata": {
    "scrolled": true
   },
   "outputs": [
    {
     "name": "stdout",
     "output_type": "stream",
     "text": [
      "Enter your name:Ayisha\n",
      "Hello,Ayisha!\n"
     ]
    }
   ],
   "source": [
    "#program to greet the use with their name\n",
    "name=str(input(\"Enter your name:\"))\n",
    "print(\"Hello,\"+(name)+ \"!\")"
   ]
  },
  {
   "cell_type": "code",
   "execution_count": 9,
   "metadata": {},
   "outputs": [
    {
     "name": "stdout",
     "output_type": "stream",
     "text": [
      "Enter a number:4\n",
      "The number is: 4\n",
      "previous number is: 3\n",
      "next number is: 5\n"
     ]
    }
   ],
   "source": [
    "#program to print an integer ,its prevoius and next number\n",
    "a=int(input(\"Enter a number:\"))\n",
    "print(\"The number is:\",a)\n",
    "print(\"previous number is:\",a-1)\n",
    "print(\"next number is:\",a+1)\n"
   ]
  },
  {
   "cell_type": "code",
   "execution_count": 10,
   "metadata": {},
   "outputs": [
    {
     "name": "stdout",
     "output_type": "stream",
     "text": [
      "enter the principal:2000\n",
      "enter the rate of interest:3\n",
      "enter the time period:2\n",
      "the simple interest is: 120.0\n"
     ]
    }
   ],
   "source": [
    "#program for computing simple interest\n",
    "p=int(input(\"enter the principal:\"))\n",
    "r=int(input(\"enter the rate of interest:\"))\n",
    "t=int(input(\"enter the time period:\"))\n",
    "si=(p*r*t)/100\n",
    "print(\"the simple interest is:\",si)"
   ]
  },
  {
   "cell_type": "code",
   "execution_count": 11,
   "metadata": {},
   "outputs": [
    {
     "name": "stdout",
     "output_type": "stream",
     "text": [
      "enter an integer:5\n",
      "615\n"
     ]
    }
   ],
   "source": [
    "#program to accept an integer n and compute the value of n+nn+nnn\n",
    "a=int(input(\"enter an integer:\"))\n",
    "n1=int(\"%s\" %a)\n",
    "n2=int(\"%s%s\" %(a,a))\n",
    "n3=int(\"%s%s%s\" %(a,a,a))\n",
    "print(n1+n2+n3)"
   ]
  },
  {
   "cell_type": "code",
   "execution_count": 15,
   "metadata": {},
   "outputs": [
    {
     "name": "stdout",
     "output_type": "stream",
     "text": [
      "enter your first name: ayisha\n",
      "enter your last name:sharia\n",
      "name in reverse: sharia ayisha\n"
     ]
    }
   ],
   "source": [
    "#program to print first and last name in reverse with a space between them\n",
    "fname=input(\"enter your first name: \")\n",
    "sname=input(\"enter your last name:\")\n",
    "print(\"name in reverse:\",sname+\" \"+fname)"
   ]
  },
  {
   "cell_type": "code",
   "execution_count": 17,
   "metadata": {},
   "outputs": [
    {
     "name": "stdout",
     "output_type": "stream",
     "text": [
      "enter the radius of the circle:5\n",
      "area of the circle is: 78.53981633974483\n"
     ]
    }
   ],
   "source": [
    "#program to calculate the area of a circle\n",
    "import math\n",
    "r=int(input(\"enter the radius of the circle:\"))\n",
    "area=math.pi*r*r\n",
    "print(\"area of the circle is:\",area)"
   ]
  },
  {
   "cell_type": "code",
   "execution_count": null,
   "metadata": {},
   "outputs": [],
   "source": []
  }
 ],
 "metadata": {
  "kernelspec": {
   "display_name": "Python 3",
   "language": "python",
   "name": "python3"
  },
  "language_info": {
   "codemirror_mode": {
    "name": "ipython",
    "version": 3
   },
   "file_extension": ".py",
   "mimetype": "text/x-python",
   "name": "python",
   "nbconvert_exporter": "python",
   "pygments_lexer": "ipython3",
   "version": "3.8.5"
  }
 },
 "nbformat": 4,
 "nbformat_minor": 4
}
