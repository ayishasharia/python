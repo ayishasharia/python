{
 "cells": [
  {
   "cell_type": "code",
   "execution_count": 1,
   "metadata": {},
   "outputs": [
    {
     "name": "stdout",
     "output_type": "stream",
     "text": [
      "Enter the employee name: ayisha\n",
      "Enter the employee salary : 10000\n",
      "Name = ayisha , Salary = 10000\n"
     ]
    }
   ],
   "source": [
    "#create a function show employee()in such a way the at it shuld accept employee\n",
    "#name,and its salary an display both,and if the salary is missing in function call\n",
    "#it should show it as 8000\n",
    "\n",
    "\n",
    "n=input(\"Enter the employee name: \")\n",
    "s=input(\"Enter the employee salary : \")\n",
    "def showEmployee(name,salary=\"8000\"):\n",
    "    print(\"Name = %s , Salary = %s\"%(name,salary))\n",
    "if(s==\" \"):showEmployee(n)\n",
    "else:showEmployee(n,s)"
   ]
  },
  {
   "cell_type": "code",
   "execution_count": 5,
   "metadata": {},
   "outputs": [
    {
     "name": "stdout",
     "output_type": "stream",
     "text": [
      "Enter the first value:5\n",
      "Enter the second value:4\n",
      "Addition =  9\n",
      "Subtration = 1\n",
      "Division = 1.25\n",
      "Multiplication=  20\n"
     ]
    }
   ],
   "source": [
    "#warite a function to calculate()such that it can accept two variable and calculate\n",
    "#the addition,subtraction and multiplicationof it ,and also it must\n",
    "#return all values in a single return calland display the result\n",
    "\n",
    "\n",
    "num1=int(input(\"Enter the first value:\"))\n",
    "num2=int(input(\"Enter the second value:\"))\n",
    "def calculate(n1,n2):\n",
    "    add=n1+n2\n",
    "    sub=n1-n2\n",
    "    div=n1/n2\n",
    "    mul=n1*n2\n",
    "    return add,sub,div,mul\n",
    "a,s,d,m=calculate(num1,num2)\n",
    "print(\"Addition = \",a)\n",
    "print(\"Subtration =\",s)\n",
    "print(\"Division =\",d)\n",
    "print(\"Multiplication= \",m)"
   ]
  },
  {
   "cell_type": "code",
   "execution_count": 6,
   "metadata": {},
   "outputs": [
    {
     "name": "stdout",
     "output_type": "stream",
     "text": [
      "-3\n"
     ]
    }
   ],
   "source": [
    "#write a function func1()such that it can accept a variable length of argument \n",
    "#and return the minimum among all argument values.print the result\n",
    "\n",
    "def func1(*b):\n",
    "    b1=min(b)\n",
    "    print(b1)\n",
    "func1(4,8,5,-3,7,1,0)"
   ]
  },
  {
   "cell_type": "code",
   "execution_count": null,
   "metadata": {},
   "outputs": [],
   "source": []
  }
 ],
 "metadata": {
  "kernelspec": {
   "display_name": "Python 3",
   "language": "python",
   "name": "python3"
  },
  "language_info": {
   "codemirror_mode": {
    "name": "ipython",
    "version": 3
   },
   "file_extension": ".py",
   "mimetype": "text/x-python",
   "name": "python",
   "nbconvert_exporter": "python",
   "pygments_lexer": "ipython3",
   "version": "3.8.5"
  }
 },
 "nbformat": 4,
 "nbformat_minor": 4
}
